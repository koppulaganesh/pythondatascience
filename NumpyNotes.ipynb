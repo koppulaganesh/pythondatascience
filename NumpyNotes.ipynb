{
 "cells": [
  {
   "cell_type": "code",
   "execution_count": 1,
   "id": "59f52d4b",
   "metadata": {},
   "outputs": [],
   "source": [
    "# why python?\n",
    "#simple syntax\n",
    "#High level language (Human understandable language)\n",
    "#Length of code is very small\n",
    "#Open source (free to download and if we are capable of modifying the python language we do it)\n",
    "#High level interpreter(memory management can done by itself)\n",
    "#object oriented and procedure oriented language\n",
    "#standard libraries(200+)\n"
   ]
  },
  {
   "cell_type": "code",
   "execution_count": 2,
   "id": "efa9fdfd",
   "metadata": {},
   "outputs": [],
   "source": [
    "import numpy as np"
   ]
  },
  {
   "cell_type": "code",
   "execution_count": 3,
   "id": "384b2fdf",
   "metadata": {},
   "outputs": [
    {
     "name": "stdout",
     "output_type": "stream",
     "text": [
      "hello\n"
     ]
    }
   ],
   "source": [
    "print(\"hello\")"
   ]
  },
  {
   "cell_type": "code",
   "execution_count": 4,
   "id": "919a1a8f",
   "metadata": {},
   "outputs": [
    {
     "name": "stdout",
     "output_type": "stream",
     "text": [
      "25\n"
     ]
    }
   ],
   "source": [
    "print(5**2) #exponent"
   ]
  },
  {
   "cell_type": "code",
   "execution_count": 5,
   "id": "47aaa239",
   "metadata": {},
   "outputs": [
    {
     "data": {
      "text/plain": [
       "2"
      ]
     },
     "execution_count": 5,
     "metadata": {},
     "output_type": "execute_result"
    }
   ],
   "source": [
    "1+1  #addition"
   ]
  },
  {
   "cell_type": "code",
   "execution_count": 6,
   "id": "1bc1dd28",
   "metadata": {},
   "outputs": [
    {
     "data": {
      "text/plain": [
       "2.0"
      ]
     },
     "execution_count": 6,
     "metadata": {},
     "output_type": "execute_result"
    }
   ],
   "source": [
    "4/2 #divison (here we get the float number as an output)"
   ]
  },
  {
   "cell_type": "code",
   "execution_count": 7,
   "id": "50daee21",
   "metadata": {},
   "outputs": [
    {
     "data": {
      "text/plain": [
       "2"
      ]
     },
     "execution_count": 7,
     "metadata": {},
     "output_type": "execute_result"
    }
   ],
   "source": [
    "4//2 "
   ]
  },
  {
   "cell_type": "code",
   "execution_count": 8,
   "id": "e4a055ea",
   "metadata": {},
   "outputs": [],
   "source": [
    "name=\"ganesh\"\n",
    "num=9182649015"
   ]
  },
  {
   "cell_type": "code",
   "execution_count": 9,
   "id": "991289f6",
   "metadata": {},
   "outputs": [
    {
     "name": "stdout",
     "output_type": "stream",
     "text": [
      "my number is 9182649015 and my name is ganesh\n"
     ]
    }
   ],
   "source": [
    "print(\"my number is {} and my name is {}\".format (num,name))"
   ]
  },
  {
   "cell_type": "code",
   "execution_count": 10,
   "id": "370f6002",
   "metadata": {},
   "outputs": [
    {
     "data": {
      "text/plain": [
       "'my number is 9182649015 and my name is ganesh'"
      ]
     },
     "execution_count": 10,
     "metadata": {},
     "output_type": "execute_result"
    }
   ],
   "source": [
    "\"my number is {} and my name is {}\".format (num,name)"
   ]
  },
  {
   "cell_type": "code",
   "execution_count": 11,
   "id": "e35c41ef",
   "metadata": {},
   "outputs": [
    {
     "data": {
      "text/plain": [
       "'my number is 9182649015 and my name is ganesh,9182649015'"
      ]
     },
     "execution_count": 11,
     "metadata": {},
     "output_type": "execute_result"
    }
   ],
   "source": [
    "\"my number is {one} and my name is {two},{three}\".format (one=num,two=name,three=num)"
   ]
  },
  {
   "cell_type": "code",
   "execution_count": 12,
   "id": "6c339622",
   "metadata": {},
   "outputs": [
    {
     "data": {
      "text/plain": [
       "'h'"
      ]
     },
     "execution_count": 12,
     "metadata": {},
     "output_type": "execute_result"
    }
   ],
   "source": [
    "O=\"hello hyderabad\"\n",
    "O[0]"
   ]
  },
  {
   "cell_type": "code",
   "execution_count": 13,
   "id": "4eaf0173",
   "metadata": {},
   "outputs": [
    {
     "data": {
      "text/plain": [
       "'hello'"
      ]
     },
     "execution_count": 13,
     "metadata": {},
     "output_type": "execute_result"
    }
   ],
   "source": [
    "O[:5]"
   ]
  },
  {
   "cell_type": "code",
   "execution_count": 14,
   "id": "86b9d9c0",
   "metadata": {},
   "outputs": [
    {
     "data": {
      "text/plain": [
       "'hello hyderabad'"
      ]
     },
     "execution_count": 14,
     "metadata": {},
     "output_type": "execute_result"
    }
   ],
   "source": [
    "O[:]"
   ]
  },
  {
   "cell_type": "code",
   "execution_count": 15,
   "id": "43881e89",
   "metadata": {},
   "outputs": [
    {
     "data": {
      "text/plain": [
       "'hello hyderabad'"
      ]
     },
     "execution_count": 15,
     "metadata": {},
     "output_type": "execute_result"
    }
   ],
   "source": [
    "O[0:]"
   ]
  },
  {
   "cell_type": "code",
   "execution_count": 16,
   "id": "c50c4fe4",
   "metadata": {},
   "outputs": [],
   "source": [
    "my_book=[\"a\",\"b\",\"c\"]\n",
    "my_book.append(\"d\")"
   ]
  },
  {
   "cell_type": "code",
   "execution_count": 17,
   "id": "a8744aec",
   "metadata": {},
   "outputs": [
    {
     "name": "stdout",
     "output_type": "stream",
     "text": [
      "['a', 'b', 'c', 'd']\n"
     ]
    }
   ],
   "source": [
    "print(my_book)"
   ]
  },
  {
   "cell_type": "code",
   "execution_count": 18,
   "id": "47a91f1a",
   "metadata": {},
   "outputs": [
    {
     "data": {
      "text/plain": [
       "'a'"
      ]
     },
     "execution_count": 18,
     "metadata": {},
     "output_type": "execute_result"
    }
   ],
   "source": [
    "my_book[0]"
   ]
  },
  {
   "cell_type": "code",
   "execution_count": 19,
   "id": "d0e6103b",
   "metadata": {},
   "outputs": [
    {
     "data": {
      "text/plain": [
       "['a', 'b', 'c', 'd']"
      ]
     },
     "execution_count": 19,
     "metadata": {},
     "output_type": "execute_result"
    }
   ],
   "source": [
    "my_book[0:]"
   ]
  },
  {
   "cell_type": "code",
   "execution_count": 20,
   "id": "a1e8b4d8",
   "metadata": {},
   "outputs": [
    {
     "data": {
      "text/plain": [
       "'b'"
      ]
     },
     "execution_count": 20,
     "metadata": {},
     "output_type": "execute_result"
    }
   ],
   "source": [
    "my_book[1]"
   ]
  },
  {
   "cell_type": "code",
   "execution_count": 21,
   "id": "74aa35ca",
   "metadata": {},
   "outputs": [
    {
     "data": {
      "text/plain": [
       "'c'"
      ]
     },
     "execution_count": 21,
     "metadata": {},
     "output_type": "execute_result"
    }
   ],
   "source": [
    "my_book[2]"
   ]
  },
  {
   "cell_type": "code",
   "execution_count": 22,
   "id": "7bf66e3c",
   "metadata": {},
   "outputs": [],
   "source": [
    "my_book[0]=\"hey myannn\""
   ]
  },
  {
   "cell_type": "code",
   "execution_count": 23,
   "id": "3ae987b7",
   "metadata": {},
   "outputs": [
    {
     "data": {
      "text/plain": [
       "['hey myannn', 'b', 'c', 'd']"
      ]
     },
     "execution_count": 23,
     "metadata": {},
     "output_type": "execute_result"
    }
   ],
   "source": [
    "my_book"
   ]
  },
  {
   "cell_type": "code",
   "execution_count": 24,
   "id": "6bfe9b9a",
   "metadata": {},
   "outputs": [],
   "source": [
    "book= [1,2,3,[1,2]]"
   ]
  },
  {
   "cell_type": "code",
   "execution_count": 25,
   "id": "7741ca66",
   "metadata": {},
   "outputs": [
    {
     "name": "stdout",
     "output_type": "stream",
     "text": [
      "[1, 2, 3, [1, 2]]\n"
     ]
    }
   ],
   "source": [
    "print(book)"
   ]
  },
  {
   "cell_type": "code",
   "execution_count": 26,
   "id": "ca10001e",
   "metadata": {},
   "outputs": [
    {
     "data": {
      "text/plain": [
       "1"
      ]
     },
     "execution_count": 26,
     "metadata": {},
     "output_type": "execute_result"
    }
   ],
   "source": [
    "book[0]"
   ]
  },
  {
   "cell_type": "code",
   "execution_count": 27,
   "id": "a398edc3",
   "metadata": {},
   "outputs": [
    {
     "data": {
      "text/plain": [
       "[1, 2]"
      ]
     },
     "execution_count": 27,
     "metadata": {},
     "output_type": "execute_result"
    }
   ],
   "source": [
    "book[3]"
   ]
  },
  {
   "cell_type": "code",
   "execution_count": 28,
   "id": "e34597e6",
   "metadata": {},
   "outputs": [
    {
     "data": {
      "text/plain": [
       "1"
      ]
     },
     "execution_count": 28,
     "metadata": {},
     "output_type": "execute_result"
    }
   ],
   "source": [
    "book[3][0]"
   ]
  },
  {
   "cell_type": "code",
   "execution_count": 29,
   "id": "d634e8e3",
   "metadata": {},
   "outputs": [],
   "source": [
    "a=1"
   ]
  },
  {
   "cell_type": "code",
   "execution_count": 30,
   "id": "d65cd01a",
   "metadata": {},
   "outputs": [
    {
     "name": "stdout",
     "output_type": "stream",
     "text": [
      "<class 'int'>\n"
     ]
    }
   ],
   "source": [
    "print(type(a))"
   ]
  },
  {
   "cell_type": "code",
   "execution_count": 31,
   "id": "f2fe021c",
   "metadata": {},
   "outputs": [
    {
     "name": "stdout",
     "output_type": "stream",
     "text": [
      "1.0\n"
     ]
    }
   ],
   "source": [
    "print(float(a))"
   ]
  },
  {
   "cell_type": "markdown",
   "id": "274d2951",
   "metadata": {},
   "source": [
    "# Dictionary"
   ]
  },
  {
   "cell_type": "code",
   "execution_count": 32,
   "id": "954c8358",
   "metadata": {},
   "outputs": [],
   "source": [
    "a={'key1':'a', 'key2':'b'}"
   ]
  },
  {
   "cell_type": "code",
   "execution_count": 33,
   "id": "83f1a78f",
   "metadata": {},
   "outputs": [
    {
     "data": {
      "text/plain": [
       "'a'"
      ]
     },
     "execution_count": 33,
     "metadata": {},
     "output_type": "execute_result"
    }
   ],
   "source": [
    "a[\"key1\"]"
   ]
  },
  {
   "cell_type": "code",
   "execution_count": 34,
   "id": "80c85edc",
   "metadata": {},
   "outputs": [
    {
     "data": {
      "text/plain": [
       "'b'"
      ]
     },
     "execution_count": 34,
     "metadata": {},
     "output_type": "execute_result"
    }
   ],
   "source": [
    "a['key2']"
   ]
  },
  {
   "cell_type": "markdown",
   "id": "efdf0eb3",
   "metadata": {},
   "source": [
    "# Boolean"
   ]
  },
  {
   "cell_type": "code",
   "execution_count": 35,
   "id": "0ce6e410",
   "metadata": {},
   "outputs": [
    {
     "data": {
      "text/plain": [
       "True"
      ]
     },
     "execution_count": 35,
     "metadata": {},
     "output_type": "execute_result"
    }
   ],
   "source": [
    "True"
   ]
  },
  {
   "cell_type": "code",
   "execution_count": 36,
   "id": "75827185",
   "metadata": {},
   "outputs": [
    {
     "name": "stdout",
     "output_type": "stream",
     "text": [
      "<class 'bool'>\n"
     ]
    }
   ],
   "source": [
    "print(type(True))"
   ]
  },
  {
   "cell_type": "code",
   "execution_count": 37,
   "id": "ea8f887d",
   "metadata": {},
   "outputs": [
    {
     "data": {
      "text/plain": [
       "False"
      ]
     },
     "execution_count": 37,
     "metadata": {},
     "output_type": "execute_result"
    }
   ],
   "source": [
    "False"
   ]
  },
  {
   "cell_type": "code",
   "execution_count": 38,
   "id": "681be7d7",
   "metadata": {},
   "outputs": [
    {
     "name": "stdout",
     "output_type": "stream",
     "text": [
      "<class 'bool'>\n"
     ]
    }
   ],
   "source": [
    "print(type(False))"
   ]
  },
  {
   "cell_type": "markdown",
   "id": "67cdd907",
   "metadata": {},
   "source": [
    "# Numerical Python (Numpy)"
   ]
  },
  {
   "cell_type": "code",
   "execution_count": 39,
   "id": "c14adfb9",
   "metadata": {},
   "outputs": [],
   "source": [
    "import numpy"
   ]
  },
  {
   "cell_type": "markdown",
   "id": "549ecdce",
   "metadata": {},
   "source": [
    "# #Here, kesler library was not found inbuilt in the jupyter notebook"
   ]
  },
  {
   "cell_type": "code",
   "execution_count": 40,
   "id": "a086ebc7",
   "metadata": {},
   "outputs": [
    {
     "ename": "ModuleNotFoundError",
     "evalue": "No module named 'kesler'",
     "output_type": "error",
     "traceback": [
      "\u001b[1;31m---------------------------------------------------------------------------\u001b[0m",
      "\u001b[1;31mModuleNotFoundError\u001b[0m                       Traceback (most recent call last)",
      "Cell \u001b[1;32mIn[40], line 1\u001b[0m\n\u001b[1;32m----> 1\u001b[0m \u001b[38;5;28;01mimport\u001b[39;00m \u001b[38;5;21;01mkesler\u001b[39;00m\n",
      "\u001b[1;31mModuleNotFoundError\u001b[0m: No module named 'kesler'"
     ]
    }
   ],
   "source": [
    "import kesler"
   ]
  },
  {
   "cell_type": "code",
   "execution_count": null,
   "id": "405b6715",
   "metadata": {},
   "outputs": [],
   "source": [
    "import matplotlib"
   ]
  },
  {
   "cell_type": "code",
   "execution_count": null,
   "id": "ad5b8cd1",
   "metadata": {},
   "outputs": [],
   "source": [
    "import pandas"
   ]
  },
  {
   "cell_type": "code",
   "execution_count": 41,
   "id": "ba9e4f70",
   "metadata": {},
   "outputs": [
    {
     "ename": "ModuleNotFoundError",
     "evalue": "No module named 'django'",
     "output_type": "error",
     "traceback": [
      "\u001b[1;31m---------------------------------------------------------------------------\u001b[0m",
      "\u001b[1;31mModuleNotFoundError\u001b[0m                       Traceback (most recent call last)",
      "Cell \u001b[1;32mIn[41], line 1\u001b[0m\n\u001b[1;32m----> 1\u001b[0m \u001b[38;5;28;01mimport\u001b[39;00m \u001b[38;5;21;01mdjango\u001b[39;00m\n",
      "\u001b[1;31mModuleNotFoundError\u001b[0m: No module named 'django'"
     ]
    }
   ],
   "source": [
    "import django"
   ]
  },
  {
   "cell_type": "markdown",
   "id": "1995d2c8",
   "metadata": {},
   "source": [
    "# Numpy Arrays"
   ]
  },
  {
   "cell_type": "code",
   "execution_count": 42,
   "id": "22da4e73",
   "metadata": {},
   "outputs": [],
   "source": [
    "list=[1,2,3,4,5,6]"
   ]
  },
  {
   "cell_type": "code",
   "execution_count": 54,
   "id": "5b535050",
   "metadata": {},
   "outputs": [
    {
     "name": "stdout",
     "output_type": "stream",
     "text": [
      "[1, 2, 3, 4, 5, 6]\n"
     ]
    }
   ],
   "source": [
    "print(list)"
   ]
  },
  {
   "cell_type": "code",
   "execution_count": 55,
   "id": "6e3ad320",
   "metadata": {},
   "outputs": [
    {
     "data": {
      "text/plain": [
       "array([1, 2, 3, 4, 5, 6])"
      ]
     },
     "execution_count": 55,
     "metadata": {},
     "output_type": "execute_result"
    }
   ],
   "source": [
    "np.array(list)"
   ]
  },
  {
   "cell_type": "code",
   "execution_count": 44,
   "id": "3270f778",
   "metadata": {},
   "outputs": [],
   "source": [
    "import numpy as np"
   ]
  },
  {
   "cell_type": "code",
   "execution_count": 45,
   "id": "933a11a7",
   "metadata": {},
   "outputs": [
    {
     "data": {
      "text/plain": [
       "array([1, 2, 3, 4, 5, 6])"
      ]
     },
     "execution_count": 45,
     "metadata": {},
     "output_type": "execute_result"
    }
   ],
   "source": [
    "np.array(list)"
   ]
  },
  {
   "cell_type": "code",
   "execution_count": 46,
   "id": "99975e3e",
   "metadata": {},
   "outputs": [],
   "source": [
    "import numpy as nb"
   ]
  },
  {
   "cell_type": "code",
   "execution_count": 47,
   "id": "7120e6c6",
   "metadata": {},
   "outputs": [
    {
     "data": {
      "text/plain": [
       "<function numpy.array>"
      ]
     },
     "execution_count": 47,
     "metadata": {},
     "output_type": "execute_result"
    }
   ],
   "source": [
    "nb.array"
   ]
  },
  {
   "cell_type": "markdown",
   "id": "ea43575a",
   "metadata": {},
   "source": [
    "# [] indicates one dimensional array"
   ]
  },
  {
   "cell_type": "code",
   "execution_count": 52,
   "id": "efd04ae3",
   "metadata": {},
   "outputs": [],
   "source": [
    "list=[1,2,3,4,5,6]"
   ]
  },
  {
   "cell_type": "code",
   "execution_count": 60,
   "id": "6e3d6da8",
   "metadata": {},
   "outputs": [
    {
     "data": {
      "text/plain": [
       "array([1, 2, 3, 4, 5, 6])"
      ]
     },
     "execution_count": 60,
     "metadata": {},
     "output_type": "execute_result"
    }
   ],
   "source": [
    "nb.array(list)"
   ]
  },
  {
   "cell_type": "code",
   "execution_count": null,
   "id": "2af35624",
   "metadata": {},
   "outputs": [],
   "source": []
  },
  {
   "cell_type": "code",
   "execution_count": 62,
   "id": "8fa76c8c",
   "metadata": {},
   "outputs": [],
   "source": [
    "array1=[1,2.5,\"a\",0.5]"
   ]
  },
  {
   "cell_type": "code",
   "execution_count": 63,
   "id": "b5786374",
   "metadata": {},
   "outputs": [
    {
     "data": {
      "text/plain": [
       "array(['1', '2.5', 'a', '0.5'], dtype='<U32')"
      ]
     },
     "execution_count": 63,
     "metadata": {},
     "output_type": "execute_result"
    }
   ],
   "source": [
    "np.array(array1)"
   ]
  },
  {
   "cell_type": "code",
   "execution_count": 64,
   "id": "d088d320",
   "metadata": {},
   "outputs": [
    {
     "data": {
      "text/plain": [
       "'Observe that since there is a string value in the list, all integer and float values have been promoted to string, while converting the list to array.'"
      ]
     },
     "execution_count": 64,
     "metadata": {},
     "output_type": "execute_result"
    }
   ],
   "source": [
    "\"\"\"Observe that since there is a string value in the list, all integer and float values have been promoted to string, while converting the list to array.\"\"\""
   ]
  },
  {
   "cell_type": "code",
   "execution_count": 18,
   "id": "bf8c9478",
   "metadata": {},
   "outputs": [],
   "source": [
    "import numpy as np"
   ]
  },
  {
   "cell_type": "markdown",
   "id": "c87356de",
   "metadata": {},
   "source": [
    "# To find the numpy version we are using"
   ]
  },
  {
   "cell_type": "code",
   "execution_count": 17,
   "id": "aa7277cb",
   "metadata": {},
   "outputs": [
    {
     "name": "stdout",
     "output_type": "stream",
     "text": [
      "1.24.3\n"
     ]
    }
   ],
   "source": [
    "print(np.__version__)"
   ]
  },
  {
   "cell_type": "markdown",
   "id": "99f85cf8",
   "metadata": {},
   "source": [
    "# [[]] indicates two dimensional array"
   ]
  },
  {
   "cell_type": "code",
   "execution_count": 67,
   "id": "511ba14b",
   "metadata": {},
   "outputs": [],
   "source": [
    "my_list=[[1,2,3],[4,5,6],[7,8,9]]"
   ]
  },
  {
   "cell_type": "code",
   "execution_count": 68,
   "id": "102b80f2",
   "metadata": {},
   "outputs": [
    {
     "name": "stdout",
     "output_type": "stream",
     "text": [
      "[[1, 2, 3], [4, 5, 6], [7, 8, 9]]\n"
     ]
    }
   ],
   "source": [
    "print(my_list)"
   ]
  },
  {
   "cell_type": "code",
   "execution_count": 69,
   "id": "c9404199",
   "metadata": {},
   "outputs": [
    {
     "data": {
      "text/plain": [
       "<function numpy.array>"
      ]
     },
     "execution_count": 69,
     "metadata": {},
     "output_type": "execute_result"
    }
   ],
   "source": [
    "np.array"
   ]
  },
  {
   "cell_type": "code",
   "execution_count": 70,
   "id": "340ccc2e",
   "metadata": {},
   "outputs": [
    {
     "data": {
      "text/plain": [
       "array([[1, 2, 3],\n",
       "       [4, 5, 6],\n",
       "       [7, 8, 9]])"
      ]
     },
     "execution_count": 70,
     "metadata": {},
     "output_type": "execute_result"
    }
   ],
   "source": [
    "np.array(my_list) #two dimensional array"
   ]
  },
  {
   "cell_type": "markdown",
   "id": "68f6979b",
   "metadata": {},
   "source": [
    "# np.arange() this is similar to range() in python"
   ]
  },
  {
   "cell_type": "code",
   "execution_count": 30,
   "id": "9c407d1a",
   "metadata": {},
   "outputs": [
    {
     "data": {
      "text/plain": [
       "array([0, 1, 2, 3, 4, 5, 6, 7, 8, 9])"
      ]
     },
     "execution_count": 30,
     "metadata": {},
     "output_type": "execute_result"
    }
   ],
   "source": [
    "np.arange(0,10) #we get number from 0 to 9 but if we wanted to get 0 to 10 we need mention(0,11)"
   ]
  },
  {
   "cell_type": "code",
   "execution_count": 31,
   "id": "c6941c97",
   "metadata": {},
   "outputs": [
    {
     "data": {
      "text/plain": [
       "array([ 0,  2,  4,  6,  8, 10, 12, 14, 16, 18, 20])"
      ]
     },
     "execution_count": 31,
     "metadata": {},
     "output_type": "execute_result"
    }
   ],
   "source": [
    "np.arange(0,21,2) #here 2 indicates to print the even numbers between 0 to 21"
   ]
  },
  {
   "cell_type": "code",
   "execution_count": 32,
   "id": "de55d980",
   "metadata": {},
   "outputs": [
    {
     "data": {
      "text/plain": [
       "array([0., 0.])"
      ]
     },
     "execution_count": 32,
     "metadata": {},
     "output_type": "execute_result"
    }
   ],
   "source": [
    "np.zeros(2)"
   ]
  },
  {
   "cell_type": "code",
   "execution_count": 33,
   "id": "5d5d56f9",
   "metadata": {},
   "outputs": [
    {
     "data": {
      "text/plain": [
       "array([[0., 0., 0., 0., 0.],\n",
       "       [0., 0., 0., 0., 0.],\n",
       "       [0., 0., 0., 0., 0.],\n",
       "       [0., 0., 0., 0., 0.],\n",
       "       [0., 0., 0., 0., 0.]])"
      ]
     },
     "execution_count": 33,
     "metadata": {},
     "output_type": "execute_result"
    }
   ],
   "source": [
    "np.zeros((5,5))"
   ]
  },
  {
   "cell_type": "code",
   "execution_count": 34,
   "id": "f1f6c6b9",
   "metadata": {},
   "outputs": [
    {
     "data": {
      "text/plain": [
       "array([0., 0.])"
      ]
     },
     "execution_count": 34,
     "metadata": {},
     "output_type": "execute_result"
    }
   ],
   "source": [
    "np.zeros(int(2))"
   ]
  },
  {
   "cell_type": "code",
   "execution_count": 35,
   "id": "15998609",
   "metadata": {},
   "outputs": [
    {
     "data": {
      "text/plain": [
       "array([1., 1., 1.])"
      ]
     },
     "execution_count": 35,
     "metadata": {},
     "output_type": "execute_result"
    }
   ],
   "source": [
    "np.ones(3) #one dimesnsional"
   ]
  },
  {
   "cell_type": "code",
   "execution_count": 37,
   "id": "81b434bf",
   "metadata": {},
   "outputs": [
    {
     "data": {
      "text/plain": [
       "array([[1., 1.],\n",
       "       [1., 1.],\n",
       "       [1., 1.]])"
      ]
     },
     "execution_count": 37,
     "metadata": {},
     "output_type": "execute_result"
    }
   ],
   "source": [
    "np.ones((3,2)) #two dimensional"
   ]
  },
  {
   "cell_type": "markdown",
   "id": "9f59d8cc",
   "metadata": {},
   "source": [
    "# linspace\n",
    "Returns evenly spaced numbers over a specified interval"
   ]
  },
  {
   "cell_type": "code",
   "execution_count": 38,
   "id": "d72ca834",
   "metadata": {},
   "outputs": [
    {
     "data": {
      "text/plain": [
       "array([ 0. ,  7.5, 15. ])"
      ]
     },
     "execution_count": 38,
     "metadata": {},
     "output_type": "execute_result"
    }
   ],
   "source": [
    "np.linspace(0,15,3)"
   ]
  },
  {
   "cell_type": "code",
   "execution_count": 39,
   "id": "08adeabb",
   "metadata": {},
   "outputs": [
    {
     "data": {
      "text/plain": [
       "array([ 0.,  5., 10.])"
      ]
     },
     "execution_count": 39,
     "metadata": {},
     "output_type": "execute_result"
    }
   ],
   "source": [
    "np.linspace(0,10,3)"
   ]
  },
  {
   "cell_type": "markdown",
   "id": "4344f49d",
   "metadata": {},
   "source": [
    "# zero dimension"
   ]
  },
  {
   "cell_type": "code",
   "execution_count": 8,
   "id": "5f6e0ec3",
   "metadata": {},
   "outputs": [],
   "source": [
    "a=np.array(1)"
   ]
  },
  {
   "cell_type": "code",
   "execution_count": 41,
   "id": "6889095e",
   "metadata": {},
   "outputs": [
    {
     "data": {
      "text/plain": [
       "array(1)"
      ]
     },
     "execution_count": 41,
     "metadata": {},
     "output_type": "execute_result"
    }
   ],
   "source": [
    "a"
   ]
  },
  {
   "cell_type": "code",
   "execution_count": 42,
   "id": "bdb36655",
   "metadata": {},
   "outputs": [],
   "source": [
    "b=np.array([1,2,3,4,5]) #coma separated are list"
   ]
  },
  {
   "cell_type": "code",
   "execution_count": 44,
   "id": "74cba8fb",
   "metadata": {},
   "outputs": [
    {
     "name": "stdout",
     "output_type": "stream",
     "text": [
      "[1 2 3 4 5]\n"
     ]
    }
   ],
   "source": [
    "print(b)     #space separated are arrays"
   ]
  },
  {
   "cell_type": "code",
   "execution_count": 49,
   "id": "df8fcff0",
   "metadata": {},
   "outputs": [],
   "source": [
    "c=np.array([[1,2,3],[2,3,4],[3,4,5]])"
   ]
  },
  {
   "cell_type": "code",
   "execution_count": 50,
   "id": "4193a9c1",
   "metadata": {},
   "outputs": [
    {
     "name": "stdout",
     "output_type": "stream",
     "text": [
      "[[1 2 3]\n",
      " [2 3 4]\n",
      " [3 4 5]]\n"
     ]
    }
   ],
   "source": [
    "print(c)            #two dimensional array"
   ]
  },
  {
   "cell_type": "code",
   "execution_count": 54,
   "id": "f24e1842",
   "metadata": {},
   "outputs": [
    {
     "data": {
      "text/plain": [
       "1"
      ]
     },
     "execution_count": 54,
     "metadata": {},
     "output_type": "execute_result"
    }
   ],
   "source": [
    "c[0][0]   #indexing"
   ]
  },
  {
   "cell_type": "code",
   "execution_count": 56,
   "id": "e7485af1",
   "metadata": {},
   "outputs": [],
   "source": [
    "d=np.array([1,2,3,4,5,6,7,8,9,0])"
   ]
  },
  {
   "cell_type": "code",
   "execution_count": 57,
   "id": "9bf5129e",
   "metadata": {},
   "outputs": [
    {
     "name": "stdout",
     "output_type": "stream",
     "text": [
      "[1 2 3 4 5 6 7 8 9 0]\n"
     ]
    }
   ],
   "source": [
    "print(d)"
   ]
  },
  {
   "cell_type": "code",
   "execution_count": 59,
   "id": "b8d59cfc",
   "metadata": {},
   "outputs": [
    {
     "name": "stdout",
     "output_type": "stream",
     "text": [
      "[1 2 3 4 5 6 7 8 9 0]\n"
     ]
    }
   ],
   "source": [
    "print(d[0:])   #slicing"
   ]
  },
  {
   "cell_type": "markdown",
   "id": "c98c9051",
   "metadata": {},
   "source": [
    "# Three dimensional array is nothing but collection of two dimensional array...."
   ]
  },
  {
   "cell_type": "code",
   "execution_count": 6,
   "id": "fb109c16",
   "metadata": {},
   "outputs": [],
   "source": [
    "import numpy as np"
   ]
  },
  {
   "cell_type": "code",
   "execution_count": 7,
   "id": "81aed425",
   "metadata": {},
   "outputs": [],
   "source": [
    "k=np.array([[[10,2,3],[4,5,6]],[[109,2,3],[1,2,3]]]) #\"three square brackets signifies that its a three dimensional array\""
   ]
  },
  {
   "cell_type": "code",
   "execution_count": 8,
   "id": "9652a46c",
   "metadata": {},
   "outputs": [
    {
     "name": "stdout",
     "output_type": "stream",
     "text": [
      "[[[1 2 3]\n",
      "  [4 5 6]]\n",
      "\n",
      " [[1 2 3]\n",
      "  [1 2 3]]]\n"
     ]
    }
   ],
   "source": [
    "print(k)"
   ]
  },
  {
   "cell_type": "code",
   "execution_count": 10,
   "id": "a00063a8",
   "metadata": {},
   "outputs": [
    {
     "data": {
      "text/plain": [
       "1"
      ]
     },
     "execution_count": 10,
     "metadata": {},
     "output_type": "execute_result"
    }
   ],
   "source": [
    "k[1][1][0]"
   ]
  },
  {
   "cell_type": "markdown",
   "id": "f6d699aa",
   "metadata": {},
   "source": [
    "# np.asarray()"
   ]
  },
  {
   "cell_type": "code",
   "execution_count": 11,
   "id": "74440eff",
   "metadata": {},
   "outputs": [],
   "source": [
    "c=[1,2,3,4,5]\n",
    "d=np.asarray(c,dtype=float)"
   ]
  },
  {
   "cell_type": "code",
   "execution_count": 12,
   "id": "73927c1d",
   "metadata": {},
   "outputs": [
    {
     "name": "stdout",
     "output_type": "stream",
     "text": [
      "[1. 2. 3. 4. 5.]\n"
     ]
    }
   ],
   "source": [
    "print(d)"
   ]
  },
  {
   "cell_type": "code",
   "execution_count": 15,
   "id": "40545e96",
   "metadata": {},
   "outputs": [],
   "source": [
    "# asarray with nditer()"
   ]
  },
  {
   "cell_type": "code",
   "execution_count": 18,
   "id": "a6a7ba10",
   "metadata": {},
   "outputs": [],
   "source": [
    "f=[[1,2],[2,3]]"
   ]
  },
  {
   "cell_type": "code",
   "execution_count": 19,
   "id": "47b2e8fd",
   "metadata": {},
   "outputs": [],
   "source": [
    "g=np.asarray(f,dtype=float)"
   ]
  },
  {
   "cell_type": "code",
   "execution_count": 20,
   "id": "295fc09e",
   "metadata": {},
   "outputs": [
    {
     "name": "stdout",
     "output_type": "stream",
     "text": [
      "[[1. 2.]\n",
      " [2. 3.]]\n"
     ]
    }
   ],
   "source": [
    "print(g)"
   ]
  },
  {
   "cell_type": "code",
   "execution_count": 38,
   "id": "3d4c57c8",
   "metadata": {},
   "outputs": [],
   "source": [
    "import numpy as np"
   ]
  },
  {
   "cell_type": "markdown",
   "id": "c988415b",
   "metadata": {},
   "source": [
    "# Methods for creating an array:"
   ]
  },
  {
   "cell_type": "markdown",
   "id": "f5b6e928",
   "metadata": {},
   "source": [
    "### 0-dimensional array"
   ]
  },
  {
   "cell_type": "code",
   "execution_count": 9,
   "id": "e719468c",
   "metadata": {},
   "outputs": [],
   "source": [
    "a=np.array(1)    #zero dimensional array"
   ]
  },
  {
   "cell_type": "code",
   "execution_count": 10,
   "id": "40672325",
   "metadata": {},
   "outputs": [
    {
     "data": {
      "text/plain": [
       "array(1)"
      ]
     },
     "execution_count": 10,
     "metadata": {},
     "output_type": "execute_result"
    }
   ],
   "source": [
    "a"
   ]
  },
  {
   "cell_type": "code",
   "execution_count": 23,
   "id": "2fe7061b",
   "metadata": {},
   "outputs": [
    {
     "name": "stdout",
     "output_type": "stream",
     "text": [
      "1\n"
     ]
    }
   ],
   "source": [
    "print(np.array(a))"
   ]
  },
  {
   "cell_type": "markdown",
   "id": "8e98cfa6",
   "metadata": {},
   "source": [
    "### 1-dimensional array"
   ]
  },
  {
   "cell_type": "code",
   "execution_count": 12,
   "id": "00a77bd0",
   "metadata": {},
   "outputs": [],
   "source": [
    "b=[1,2,3,4]   #list are comma separated values     #1-dimensional array"
   ]
  },
  {
   "cell_type": "code",
   "execution_count": 13,
   "id": "7424a802",
   "metadata": {},
   "outputs": [
    {
     "data": {
      "text/plain": [
       "array([1, 2, 3, 4])"
      ]
     },
     "execution_count": 13,
     "metadata": {},
     "output_type": "execute_result"
    }
   ],
   "source": [
    "np.array(b)"
   ]
  },
  {
   "cell_type": "code",
   "execution_count": 20,
   "id": "8464b542",
   "metadata": {},
   "outputs": [
    {
     "name": "stdout",
     "output_type": "stream",
     "text": [
      "[1 2 3 4]\n"
     ]
    }
   ],
   "source": [
    "print(np.array(b))  #array are space separated values"
   ]
  },
  {
   "cell_type": "markdown",
   "id": "828a5017",
   "metadata": {},
   "source": [
    "### accessing the values using index"
   ]
  },
  {
   "cell_type": "code",
   "execution_count": 24,
   "id": "67f096b3",
   "metadata": {},
   "outputs": [
    {
     "data": {
      "text/plain": [
       "1"
      ]
     },
     "execution_count": 24,
     "metadata": {},
     "output_type": "execute_result"
    }
   ],
   "source": [
    "b[0]"
   ]
  },
  {
   "cell_type": "markdown",
   "id": "48f7ecd5",
   "metadata": {},
   "source": [
    "### 2-dimensional array"
   ]
  },
  {
   "cell_type": "code",
   "execution_count": 25,
   "id": "93134c61",
   "metadata": {},
   "outputs": [],
   "source": [
    "c=[[1,2,3,4],[5,6,7,8]]    #2-dimensional array: collection two 1-dimensional array"
   ]
  },
  {
   "cell_type": "code",
   "execution_count": 16,
   "id": "cb18885a",
   "metadata": {},
   "outputs": [
    {
     "name": "stdout",
     "output_type": "stream",
     "text": [
      "[[1 2 3 4]\n",
      " [5 6 7 8]]\n"
     ]
    }
   ],
   "source": [
    "print(np.array(c))        #two square brackets defines it as a 2-dimensional array"
   ]
  },
  {
   "cell_type": "markdown",
   "id": "f498153b",
   "metadata": {},
   "source": [
    "### accessing the values using index "
   ]
  },
  {
   "cell_type": "code",
   "execution_count": 18,
   "id": "65d94061",
   "metadata": {},
   "outputs": [
    {
     "data": {
      "text/plain": [
       "2"
      ]
     },
     "execution_count": 18,
     "metadata": {},
     "output_type": "execute_result"
    }
   ],
   "source": [
    "c[0][1]    # by this also we can get to know that it is a 2-dimensional array"
   ]
  },
  {
   "cell_type": "markdown",
   "id": "ced06295",
   "metadata": {},
   "source": [
    "### 3-dimensional array"
   ]
  },
  {
   "cell_type": "code",
   "execution_count": 27,
   "id": "bb894e17",
   "metadata": {},
   "outputs": [],
   "source": [
    "d=[[[1,2,3],[4,5,6],[7,8,9]]]    # three square brackets represents 3-dimensional array"
   ]
  },
  {
   "cell_type": "code",
   "execution_count": 28,
   "id": "36fb06d2",
   "metadata": {},
   "outputs": [
    {
     "name": "stdout",
     "output_type": "stream",
     "text": [
      "[[[1 2 3]\n",
      "  [4 5 6]\n",
      "  [7 8 9]]]\n"
     ]
    }
   ],
   "source": [
    "print(np.array(d))"
   ]
  },
  {
   "cell_type": "markdown",
   "id": "5792704b",
   "metadata": {},
   "source": [
    "### accessing the values using index"
   ]
  },
  {
   "cell_type": "code",
   "execution_count": 32,
   "id": "76862c3d",
   "metadata": {},
   "outputs": [
    {
     "data": {
      "text/plain": [
       "2"
      ]
     },
     "execution_count": 32,
     "metadata": {},
     "output_type": "execute_result"
    }
   ],
   "source": [
    "d[0][0][1]   #by this also we can get to know that it is a 3-dimensional array"
   ]
  },
  {
   "cell_type": "markdown",
   "id": "2cbf5b9d",
   "metadata": {},
   "source": [
    "### Another type of 3-dimensional array"
   ]
  },
  {
   "cell_type": "code",
   "execution_count": 33,
   "id": "340ccb80",
   "metadata": {},
   "outputs": [],
   "source": [
    "f=[[1,2,3],[4,5,6]],[[7,8,9],[10,11,12]]    # collection of two 2-dimensional array is called 3-dimensional array"
   ]
  },
  {
   "cell_type": "code",
   "execution_count": 34,
   "id": "0e930a31",
   "metadata": {},
   "outputs": [
    {
     "data": {
      "text/plain": [
       "2"
      ]
     },
     "execution_count": 34,
     "metadata": {},
     "output_type": "execute_result"
    }
   ],
   "source": [
    "f[0][0][1]     #accessing the values using index method"
   ]
  },
  {
   "cell_type": "markdown",
   "id": "f8854f74",
   "metadata": {},
   "source": [
    "### asarray()"
   ]
  },
  {
   "cell_type": "code",
   "execution_count": 39,
   "id": "4d59b06d",
   "metadata": {},
   "outputs": [],
   "source": [
    "e=[1,2,4,5]   #1-dimensional array"
   ]
  },
  {
   "cell_type": "code",
   "execution_count": 40,
   "id": "5c78ac7d",
   "metadata": {},
   "outputs": [],
   "source": [
    "f=np.asarray(e,dtype=str)      #\"e\" is the input, \"dtype\" means data type"
   ]
  },
  {
   "cell_type": "code",
   "execution_count": 41,
   "id": "5aab1fb8",
   "metadata": {},
   "outputs": [
    {
     "name": "stdout",
     "output_type": "stream",
     "text": [
      "['1' '2' '4' '5']\n"
     ]
    }
   ],
   "source": [
    "print(np.array(f))"
   ]
  },
  {
   "cell_type": "markdown",
   "id": "a88b678c",
   "metadata": {},
   "source": [
    "### asarray with nditer()"
   ]
  },
  {
   "cell_type": "code",
   "execution_count": 47,
   "id": "560a3827",
   "metadata": {},
   "outputs": [],
   "source": [
    "c=[[1,2,3],[4,5,6]]"
   ]
  },
  {
   "cell_type": "code",
   "execution_count": 49,
   "id": "75996a1e",
   "metadata": {},
   "outputs": [],
   "source": [
    "d=np.asarray(c,dtype=float,order=\"C\")       #order=\"C\" represents row major order"
   ]
  },
  {
   "cell_type": "code",
   "execution_count": 50,
   "id": "6013fae1",
   "metadata": {},
   "outputs": [
    {
     "name": "stdout",
     "output_type": "stream",
     "text": [
      "[[1. 2. 3.]\n",
      " [4. 5. 6.]]\n"
     ]
    }
   ],
   "source": [
    "print(np.array(d))"
   ]
  },
  {
   "cell_type": "code",
   "execution_count": 52,
   "id": "3c4ccdb9",
   "metadata": {},
   "outputs": [
    {
     "name": "stdout",
     "output_type": "stream",
     "text": [
      "1.0\n",
      "2.0\n",
      "3.0\n",
      "4.0\n",
      "5.0\n",
      "6.0\n"
     ]
    }
   ],
   "source": [
    "for i in np.nditer(d):\n",
    "    print(i)                           #now we can clearly see the row major order which we have given earlier"
   ]
  },
  {
   "cell_type": "code",
   "execution_count": null,
   "id": "aff20ef5",
   "metadata": {},
   "outputs": [],
   "source": []
  },
  {
   "cell_type": "code",
   "execution_count": 53,
   "id": "e5c4a91d",
   "metadata": {},
   "outputs": [],
   "source": [
    "a=[[1,2,3],[4,5,6]]"
   ]
  },
  {
   "cell_type": "code",
   "execution_count": 55,
   "id": "06e30187",
   "metadata": {},
   "outputs": [],
   "source": [
    "b=np.asarray(a,dtype=str,order=\"F\")    #order=\"F\" represents column major order"
   ]
  },
  {
   "cell_type": "code",
   "execution_count": 59,
   "id": "c7c26572",
   "metadata": {},
   "outputs": [
    {
     "name": "stdout",
     "output_type": "stream",
     "text": [
      "1\n",
      "4\n",
      "2\n",
      "5\n",
      "3\n",
      "6\n"
     ]
    }
   ],
   "source": [
    "for i in np.nditer(b):\n",
    "    print(i)"
   ]
  },
  {
   "cell_type": "markdown",
   "id": "1d1c883a",
   "metadata": {},
   "source": [
    "### frombuffer()"
   ]
  },
  {
   "cell_type": "code",
   "execution_count": 60,
   "id": "3c3009f6",
   "metadata": {},
   "outputs": [],
   "source": [
    "a=b\"Hello Floks!\"       #\"b\" represents buffer."
   ]
  },
  {
   "cell_type": "code",
   "execution_count": 62,
   "id": "91804462",
   "metadata": {},
   "outputs": [
    {
     "data": {
      "text/plain": [
       "array([b'H', b'e', b'l', b'l', b'o', b' ', b'F', b'l', b'o', b'k', b's',\n",
       "       b'!'], dtype='|S1')"
      ]
     },
     "execution_count": 62,
     "metadata": {},
     "output_type": "execute_result"
    }
   ],
   "source": [
    "np.frombuffer(a,dtype=\"S1\")   #\"S1\" represents string"
   ]
  },
  {
   "cell_type": "code",
   "execution_count": 63,
   "id": "68a15385",
   "metadata": {},
   "outputs": [
    {
     "data": {
      "text/plain": [
       "array([b'H', b'e', b'l', b'l', b'o'], dtype='|S1')"
      ]
     },
     "execution_count": 63,
     "metadata": {},
     "output_type": "execute_result"
    }
   ],
   "source": [
    "np.frombuffer(a,dtype=\"S1\",count=5)     #\"count\" represents the no. of elements needed to be printed."
   ]
  },
  {
   "cell_type": "code",
   "execution_count": 64,
   "id": "39c3ad31",
   "metadata": {},
   "outputs": [
    {
     "data": {
      "text/plain": [
       "array([b'F', b'l', b'o', b'k', b's', b'!'], dtype='|S1')"
      ]
     },
     "execution_count": 64,
     "metadata": {},
     "output_type": "execute_result"
    }
   ],
   "source": [
    "np.frombuffer(a,dtype=\"S1\",offset=6)     #\"offset\" represents the start point of the elements to be printed\""
   ]
  },
  {
   "cell_type": "markdown",
   "id": "fe65322d",
   "metadata": {},
   "source": [
    "### fromiter()"
   ]
  },
  {
   "cell_type": "code",
   "execution_count": 69,
   "id": "6ba8929c",
   "metadata": {},
   "outputs": [],
   "source": [
    "a=[1,2,3,4,5,6,7,8,9,0]"
   ]
  },
  {
   "cell_type": "code",
   "execution_count": 73,
   "id": "99334d87",
   "metadata": {},
   "outputs": [
    {
     "data": {
      "text/plain": [
       "array([1, 2, 3, 4, 5, 6, 7, 8])"
      ]
     },
     "execution_count": 73,
     "metadata": {},
     "output_type": "execute_result"
    }
   ],
   "source": [
    "np.fromiter(a,dtype=int,count=8)"
   ]
  },
  {
   "cell_type": "markdown",
   "id": "c7769335",
   "metadata": {},
   "source": [
    "# Initializing Array/Assigning values to an array"
   ]
  },
  {
   "cell_type": "markdown",
   "id": "d13c0584",
   "metadata": {},
   "source": [
    "### zeros()"
   ]
  },
  {
   "cell_type": "code",
   "execution_count": 76,
   "id": "131c9c2d",
   "metadata": {},
   "outputs": [],
   "source": [
    "a=np.zeros(3)     #1-dimensional array with 3 elements(zeros)"
   ]
  },
  {
   "cell_type": "code",
   "execution_count": 77,
   "id": "d6cf08b0",
   "metadata": {},
   "outputs": [
    {
     "name": "stdout",
     "output_type": "stream",
     "text": [
      "[0. 0. 0.]\n"
     ]
    }
   ],
   "source": [
    "print(a)"
   ]
  },
  {
   "cell_type": "code",
   "execution_count": 80,
   "id": "a3f94852",
   "metadata": {},
   "outputs": [],
   "source": [
    "b=np.zeros([2,3])"
   ]
  },
  {
   "cell_type": "code",
   "execution_count": 81,
   "id": "b27a4694",
   "metadata": {},
   "outputs": [
    {
     "name": "stdout",
     "output_type": "stream",
     "text": [
      "[[0. 0. 0.]\n",
      " [0. 0. 0.]]\n"
     ]
    }
   ],
   "source": [
    "print(b)"
   ]
  },
  {
   "cell_type": "markdown",
   "id": "3d3cc8a2",
   "metadata": {},
   "source": [
    "### ones()"
   ]
  },
  {
   "cell_type": "code",
   "execution_count": 84,
   "id": "78219ab0",
   "metadata": {},
   "outputs": [],
   "source": [
    "a=np.ones(3)    #1-dimensional array with three elements(ones)"
   ]
  },
  {
   "cell_type": "code",
   "execution_count": 83,
   "id": "f36bee2c",
   "metadata": {},
   "outputs": [
    {
     "name": "stdout",
     "output_type": "stream",
     "text": [
      "[1. 1. 1.]\n"
     ]
    }
   ],
   "source": [
    "print(a)"
   ]
  },
  {
   "cell_type": "markdown",
   "id": "2bc3d193",
   "metadata": {},
   "source": [
    "### full()"
   ]
  },
  {
   "cell_type": "code",
   "execution_count": 85,
   "id": "cd100373",
   "metadata": {},
   "outputs": [],
   "source": [
    "a=np.full([2,3],4)    #[2,3],4 represents 2-dimensional array() filled with 4 as an element (2-rows)   (3-columns)"
   ]
  },
  {
   "cell_type": "code",
   "execution_count": 86,
   "id": "f9adb006",
   "metadata": {},
   "outputs": [
    {
     "name": "stdout",
     "output_type": "stream",
     "text": [
      "[[4 4 4]\n",
      " [4 4 4]]\n"
     ]
    }
   ],
   "source": [
    "print(a)"
   ]
  },
  {
   "cell_type": "code",
   "execution_count": 87,
   "id": "692a5279",
   "metadata": {},
   "outputs": [],
   "source": [
    "b=np.full([2,3,4],5)"
   ]
  },
  {
   "cell_type": "code",
   "execution_count": 88,
   "id": "91925618",
   "metadata": {},
   "outputs": [
    {
     "name": "stdout",
     "output_type": "stream",
     "text": [
      "[[[5 5 5 5]\n",
      "  [5 5 5 5]\n",
      "  [5 5 5 5]]\n",
      "\n",
      " [[5 5 5 5]\n",
      "  [5 5 5 5]\n",
      "  [5 5 5 5]]]\n"
     ]
    }
   ],
   "source": [
    "print(b)"
   ]
  },
  {
   "cell_type": "markdown",
   "id": "18345f7a",
   "metadata": {},
   "source": [
    "### random.rand()"
   ]
  },
  {
   "cell_type": "code",
   "execution_count": 97,
   "id": "9fd17a3b",
   "metadata": {},
   "outputs": [],
   "source": [
    "a=np.random.rand(2,3)    #random values"
   ]
  },
  {
   "cell_type": "code",
   "execution_count": 30,
   "id": "07f467ac",
   "metadata": {},
   "outputs": [
    {
     "name": "stdout",
     "output_type": "stream",
     "text": [
      "[10 12 14 16 18]\n"
     ]
    }
   ],
   "source": [
    "print(a)"
   ]
  },
  {
   "cell_type": "code",
   "execution_count": 7,
   "id": "6cdb0d8d",
   "metadata": {},
   "outputs": [],
   "source": [
    "import numpy as np"
   ]
  },
  {
   "cell_type": "markdown",
   "id": "745b26a0",
   "metadata": {},
   "source": [
    "### eye()"
   ]
  },
  {
   "cell_type": "code",
   "execution_count": 99,
   "id": "1df39942",
   "metadata": {},
   "outputs": [],
   "source": [
    "#Diagonal elements will be filled with one's and remaining will be filled with zero's"
   ]
  },
  {
   "cell_type": "code",
   "execution_count": 10,
   "id": "4bea1065",
   "metadata": {},
   "outputs": [
    {
     "data": {
      "text/plain": [
       "array([[1., 0.],\n",
       "       [0., 1.]])"
      ]
     },
     "execution_count": 10,
     "metadata": {},
     "output_type": "execute_result"
    }
   ],
   "source": [
    "np.eye(2)  #2*2 matrix"
   ]
  },
  {
   "cell_type": "code",
   "execution_count": 11,
   "id": "01ff9dbb",
   "metadata": {},
   "outputs": [
    {
     "data": {
      "text/plain": [
       "array([[1., 0., 0.],\n",
       "       [0., 1., 0.],\n",
       "       [0., 0., 1.]])"
      ]
     },
     "execution_count": 11,
     "metadata": {},
     "output_type": "execute_result"
    }
   ],
   "source": [
    "np.eye(3) #3*3 matrix"
   ]
  },
  {
   "cell_type": "code",
   "execution_count": 12,
   "id": "75f70b80",
   "metadata": {},
   "outputs": [
    {
     "data": {
      "text/plain": [
       "array([[1., 0., 0., 0.],\n",
       "       [0., 1., 0., 0.],\n",
       "       [0., 0., 1., 0.],\n",
       "       [0., 0., 0., 1.]])"
      ]
     },
     "execution_count": 12,
     "metadata": {},
     "output_type": "execute_result"
    }
   ],
   "source": [
    "np.eye(4)  #4*4 matrix"
   ]
  },
  {
   "cell_type": "markdown",
   "id": "74e8c026",
   "metadata": {},
   "source": [
    "# Numerical Range"
   ]
  },
  {
   "cell_type": "markdown",
   "id": "71240594",
   "metadata": {},
   "source": [
    "### arange()"
   ]
  },
  {
   "cell_type": "code",
   "execution_count": 13,
   "id": "99b1de72",
   "metadata": {},
   "outputs": [],
   "source": [
    "a=np.arange(10,20,2)   #1-dimensional array using arange()"
   ]
  },
  {
   "cell_type": "code",
   "execution_count": 14,
   "id": "c215dbfc",
   "metadata": {},
   "outputs": [
    {
     "data": {
      "text/plain": [
       "array([10, 12, 14, 16, 18])"
      ]
     },
     "execution_count": 14,
     "metadata": {},
     "output_type": "execute_result"
    }
   ],
   "source": [
    "a"
   ]
  },
  {
   "cell_type": "code",
   "execution_count": 19,
   "id": "355545af",
   "metadata": {},
   "outputs": [
    {
     "name": "stdout",
     "output_type": "stream",
     "text": [
      "[10 12 14 16 18]\n"
     ]
    }
   ],
   "source": [
    "print(a)"
   ]
  },
  {
   "cell_type": "code",
   "execution_count": null,
   "id": "c0566ed3",
   "metadata": {},
   "outputs": [],
   "source": []
  },
  {
   "cell_type": "code",
   "execution_count": 16,
   "id": "e43569e5",
   "metadata": {},
   "outputs": [],
   "source": [
    "#even we can change the datatype withing the arange() function"
   ]
  },
  {
   "cell_type": "code",
   "execution_count": 17,
   "id": "2145fd47",
   "metadata": {},
   "outputs": [],
   "source": [
    "b=np.arange(10,100,20,dtype=float)       #20 represents difference"
   ]
  },
  {
   "cell_type": "code",
   "execution_count": 18,
   "id": "e9694a97",
   "metadata": {},
   "outputs": [
    {
     "name": "stdout",
     "output_type": "stream",
     "text": [
      "[10. 30. 50. 70. 90.]\n"
     ]
    }
   ],
   "source": [
    "print(b)"
   ]
  },
  {
   "cell_type": "code",
   "execution_count": null,
   "id": "88e6b989",
   "metadata": {},
   "outputs": [],
   "source": []
  },
  {
   "cell_type": "code",
   "execution_count": 25,
   "id": "f2d291e3",
   "metadata": {},
   "outputs": [],
   "source": [
    "b=np.arange(0,11,2)"
   ]
  },
  {
   "cell_type": "code",
   "execution_count": 28,
   "id": "faa06461",
   "metadata": {},
   "outputs": [
    {
     "name": "stdout",
     "output_type": "stream",
     "text": [
      "[ 0  2  4  6  8 10]\n"
     ]
    }
   ],
   "source": [
    "print(b)    #6 elements (evenly distributed elements)"
   ]
  },
  {
   "cell_type": "markdown",
   "id": "01559d56",
   "metadata": {},
   "source": [
    "### reshape()"
   ]
  },
  {
   "cell_type": "code",
   "execution_count": 27,
   "id": "9065bd19",
   "metadata": {},
   "outputs": [
    {
     "data": {
      "text/plain": [
       "array([[ 0,  2,  4],\n",
       "       [ 6,  8, 10]])"
      ]
     },
     "execution_count": 27,
     "metadata": {},
     "output_type": "execute_result"
    }
   ],
   "source": [
    "b.reshape(2,3)   #to change the dimension we use reshape() function but it will work only for the evenly distributed elements."
   ]
  },
  {
   "cell_type": "code",
   "execution_count": 31,
   "id": "9748cb20",
   "metadata": {},
   "outputs": [
    {
     "data": {
      "text/plain": [
       "array([[ 0,  2,  4,  6,  8, 10]])"
      ]
     },
     "execution_count": 31,
     "metadata": {},
     "output_type": "execute_result"
    }
   ],
   "source": [
    "b.reshape(1,6)"
   ]
  },
  {
   "cell_type": "code",
   "execution_count": 34,
   "id": "2c8be591",
   "metadata": {},
   "outputs": [
    {
     "data": {
      "text/plain": [
       "array([[ 0],\n",
       "       [ 2],\n",
       "       [ 4],\n",
       "       [ 6],\n",
       "       [ 8],\n",
       "       [10]])"
      ]
     },
     "execution_count": 34,
     "metadata": {},
     "output_type": "execute_result"
    }
   ],
   "source": [
    "b.reshape(6,1)"
   ]
  },
  {
   "cell_type": "code",
   "execution_count": 38,
   "id": "b850f120",
   "metadata": {},
   "outputs": [],
   "source": [
    "b=np.arange(6)    #6 elements "
   ]
  },
  {
   "cell_type": "code",
   "execution_count": 39,
   "id": "285d6d89",
   "metadata": {},
   "outputs": [
    {
     "data": {
      "text/plain": [
       "array([0, 1, 2, 3, 4, 5])"
      ]
     },
     "execution_count": 39,
     "metadata": {},
     "output_type": "execute_result"
    }
   ],
   "source": [
    "b"
   ]
  },
  {
   "cell_type": "code",
   "execution_count": 40,
   "id": "185673f5",
   "metadata": {},
   "outputs": [
    {
     "name": "stdout",
     "output_type": "stream",
     "text": [
      "[0 1 2 3 4 5]\n"
     ]
    }
   ],
   "source": [
    "print(b)"
   ]
  },
  {
   "cell_type": "code",
   "execution_count": 41,
   "id": "df923416",
   "metadata": {},
   "outputs": [
    {
     "data": {
      "text/plain": [
       "array([[0, 1, 2],\n",
       "       [3, 4, 5]])"
      ]
     },
     "execution_count": 41,
     "metadata": {},
     "output_type": "execute_result"
    }
   ],
   "source": [
    "b.reshape(2,3)"
   ]
  },
  {
   "cell_type": "markdown",
   "id": "d5dcce0c",
   "metadata": {},
   "source": [
    "### linspace()"
   ]
  },
  {
   "cell_type": "code",
   "execution_count": 45,
   "id": "938a99a1",
   "metadata": {},
   "outputs": [],
   "source": [
    "a=np.linspace(10,100,10)"
   ]
  },
  {
   "cell_type": "code",
   "execution_count": 46,
   "id": "8cadf794",
   "metadata": {},
   "outputs": [
    {
     "name": "stdout",
     "output_type": "stream",
     "text": [
      "[ 10.  20.  30.  40.  50.  60.  70.  80.  90. 100.]\n"
     ]
    }
   ],
   "source": [
    "print(a)"
   ]
  },
  {
   "cell_type": "code",
   "execution_count": 47,
   "id": "d3bf713f",
   "metadata": {},
   "outputs": [],
   "source": [
    "a=np.linspace(10,100,10,endpoint=False,retstep=True)"
   ]
  },
  {
   "cell_type": "code",
   "execution_count": 48,
   "id": "ab265710",
   "metadata": {},
   "outputs": [
    {
     "name": "stdout",
     "output_type": "stream",
     "text": [
      "(array([10., 19., 28., 37., 46., 55., 64., 73., 82., 91.]), 9.0)\n"
     ]
    }
   ],
   "source": [
    "print(a)"
   ]
  },
  {
   "cell_type": "code",
   "execution_count": 49,
   "id": "0a2028fd",
   "metadata": {},
   "outputs": [],
   "source": [
    "a=np.linspace(10,100,10,endpoint=False,retstep=True,dtype=int)"
   ]
  },
  {
   "cell_type": "code",
   "execution_count": 50,
   "id": "190522a3",
   "metadata": {},
   "outputs": [
    {
     "data": {
      "text/plain": [
       "(array([10, 19, 28, 37, 46, 55, 64, 73, 82, 91]), 9.0)"
      ]
     },
     "execution_count": 50,
     "metadata": {},
     "output_type": "execute_result"
    }
   ],
   "source": [
    "a"
   ]
  },
  {
   "cell_type": "code",
   "execution_count": 51,
   "id": "2bad9a48",
   "metadata": {},
   "outputs": [
    {
     "name": "stdout",
     "output_type": "stream",
     "text": [
      "(array([10, 19, 28, 37, 46, 55, 64, 73, 82, 91]), 9.0)\n"
     ]
    }
   ],
   "source": [
    "print(a)"
   ]
  },
  {
   "cell_type": "markdown",
   "id": "6e0eaf2e",
   "metadata": {},
   "source": [
    "### logspace()"
   ]
  },
  {
   "cell_type": "code",
   "execution_count": null,
   "id": "424e5dda",
   "metadata": {},
   "outputs": [],
   "source": [
    "a=np.logspace(1,10,10,endpoint=True)"
   ]
  },
  {
   "cell_type": "code",
   "execution_count": 64,
   "id": "90b2bd2a",
   "metadata": {},
   "outputs": [
    {
     "name": "stdout",
     "output_type": "stream",
     "text": [
      "[1.e+01 1.e+02 1.e+03 1.e+04 1.e+05 1.e+06 1.e+07 1.e+08 1.e+09 1.e+10]\n"
     ]
    }
   ],
   "source": [
    "print(a)"
   ]
  },
  {
   "cell_type": "code",
   "execution_count": 58,
   "id": "69aca4d5",
   "metadata": {},
   "outputs": [],
   "source": [
    "a=np.logspace(1,10,10,dtype=float)"
   ]
  },
  {
   "cell_type": "code",
   "execution_count": 59,
   "id": "6d1cbe09",
   "metadata": {},
   "outputs": [
    {
     "name": "stdout",
     "output_type": "stream",
     "text": [
      "[1.e+01 1.e+02 1.e+03 1.e+04 1.e+05 1.e+06 1.e+07 1.e+08 1.e+09 1.e+10]\n"
     ]
    }
   ],
   "source": [
    "print(a)"
   ]
  },
  {
   "cell_type": "markdown",
   "id": "c53ed39c",
   "metadata": {},
   "source": [
    "# Array Properties"
   ]
  },
  {
   "cell_type": "markdown",
   "id": "39709fb9",
   "metadata": {},
   "source": [
    "### size()"
   ]
  },
  {
   "cell_type": "code",
   "execution_count": 70,
   "id": "7e808e26",
   "metadata": {},
   "outputs": [],
   "source": [
    "a=np.arange(1,10,1)"
   ]
  },
  {
   "cell_type": "code",
   "execution_count": 74,
   "id": "2a3305da",
   "metadata": {},
   "outputs": [
    {
     "name": "stdout",
     "output_type": "stream",
     "text": [
      "[1 2 3 4 5 6 7 8 9]\n"
     ]
    }
   ],
   "source": [
    "print(a)"
   ]
  },
  {
   "cell_type": "code",
   "execution_count": 80,
   "id": "7b2cf1b4",
   "metadata": {},
   "outputs": [
    {
     "data": {
      "text/plain": [
       "array([[1, 2, 3],\n",
       "       [4, 5, 6],\n",
       "       [7, 8, 9]])"
      ]
     },
     "execution_count": 80,
     "metadata": {},
     "output_type": "execute_result"
    }
   ],
   "source": [
    "a.reshape(3,3)"
   ]
  },
  {
   "cell_type": "code",
   "execution_count": 90,
   "id": "7e440842",
   "metadata": {},
   "outputs": [
    {
     "data": {
      "text/plain": [
       "9"
      ]
     },
     "execution_count": 90,
     "metadata": {},
     "output_type": "execute_result"
    }
   ],
   "source": [
    "np.size(a)     #size means total number of elements in an array()"
   ]
  },
  {
   "cell_type": "code",
   "execution_count": 93,
   "id": "80709d3c",
   "metadata": {},
   "outputs": [
    {
     "data": {
      "text/plain": [
       "9"
      ]
     },
     "execution_count": 93,
     "metadata": {},
     "output_type": "execute_result"
    }
   ],
   "source": [
    "a.size"
   ]
  },
  {
   "cell_type": "markdown",
   "id": "491bfd6e",
   "metadata": {},
   "source": [
    "### shape()"
   ]
  },
  {
   "cell_type": "code",
   "execution_count": 88,
   "id": "f9ea083c",
   "metadata": {},
   "outputs": [
    {
     "data": {
      "text/plain": [
       "(3, 3)"
      ]
     },
     "execution_count": 88,
     "metadata": {},
     "output_type": "execute_result"
    }
   ],
   "source": [
    "np.shape(a)      #shape means matrix of an array or dimension "
   ]
  },
  {
   "cell_type": "code",
   "execution_count": 89,
   "id": "c0e40328",
   "metadata": {},
   "outputs": [
    {
     "data": {
      "text/plain": [
       "(3, 3)"
      ]
     },
     "execution_count": 89,
     "metadata": {},
     "output_type": "execute_result"
    }
   ],
   "source": [
    "a.shape"
   ]
  },
  {
   "cell_type": "markdown",
   "id": "4ff4c0d0",
   "metadata": {},
   "source": [
    "### dtype()"
   ]
  },
  {
   "cell_type": "code",
   "execution_count": 95,
   "id": "830f0e5e",
   "metadata": {},
   "outputs": [
    {
     "data": {
      "text/plain": [
       "dtype('int32')"
      ]
     },
     "execution_count": 95,
     "metadata": {},
     "output_type": "execute_result"
    }
   ],
   "source": [
    "a.dtype"
   ]
  },
  {
   "cell_type": "markdown",
   "id": "5ea3fc8b",
   "metadata": {},
   "source": [
    "# To check the dimension of an array"
   ]
  },
  {
   "cell_type": "markdown",
   "id": "89884591",
   "metadata": {},
   "source": [
    "### np.ndim()"
   ]
  },
  {
   "cell_type": "code",
   "execution_count": 100,
   "id": "95fe332c",
   "metadata": {},
   "outputs": [],
   "source": [
    "a=np.array(1)   #zero dimensional array"
   ]
  },
  {
   "cell_type": "code",
   "execution_count": 101,
   "id": "65041b3b",
   "metadata": {},
   "outputs": [
    {
     "name": "stdout",
     "output_type": "stream",
     "text": [
      "0\n"
     ]
    }
   ],
   "source": [
    "print(a.ndim)"
   ]
  },
  {
   "cell_type": "code",
   "execution_count": 104,
   "id": "9825870a",
   "metadata": {},
   "outputs": [],
   "source": [
    "b=np.array([1,2])   #1-dimensional array"
   ]
  },
  {
   "cell_type": "code",
   "execution_count": 103,
   "id": "8da65bfe",
   "metadata": {},
   "outputs": [
    {
     "name": "stdout",
     "output_type": "stream",
     "text": [
      "1\n"
     ]
    }
   ],
   "source": [
    "print(b.ndim)"
   ]
  },
  {
   "cell_type": "code",
   "execution_count": 191,
   "id": "81109721",
   "metadata": {},
   "outputs": [
    {
     "data": {
      "text/plain": [
       "2"
      ]
     },
     "execution_count": 191,
     "metadata": {},
     "output_type": "execute_result"
    }
   ],
   "source": [
    "np.ndim(b)"
   ]
  },
  {
   "cell_type": "markdown",
   "id": "81257647",
   "metadata": {},
   "source": [
    "# How to Change the dimensions for an array?"
   ]
  },
  {
   "cell_type": "code",
   "execution_count": 189,
   "id": "c2c67c21",
   "metadata": {},
   "outputs": [],
   "source": [
    "a=np.array([1,2,3,4,5,6,7,8],ndmin=2)   #converting it to 2-dimensional array"
   ]
  },
  {
   "cell_type": "code",
   "execution_count": 190,
   "id": "0d56bfb2",
   "metadata": {},
   "outputs": [
    {
     "name": "stdout",
     "output_type": "stream",
     "text": [
      "[[1 2 3 4 5 6 7 8]]\n"
     ]
    }
   ],
   "source": [
    "print(a)"
   ]
  },
  {
   "cell_type": "code",
   "execution_count": null,
   "id": "49fbd116",
   "metadata": {},
   "outputs": [],
   "source": []
  },
  {
   "cell_type": "markdown",
   "id": "e871d9ba",
   "metadata": {},
   "source": [
    "# Array Operations"
   ]
  },
  {
   "cell_type": "markdown",
   "id": "10934748",
   "metadata": {},
   "source": [
    "### Accessing and Slicing operations"
   ]
  },
  {
   "cell_type": "code",
   "execution_count": 107,
   "id": "179c8d4d",
   "metadata": {},
   "outputs": [],
   "source": [
    "#We can access the elements using the index method  #Indexing starts from \"zero\""
   ]
  },
  {
   "cell_type": "code",
   "execution_count": 108,
   "id": "4ec863b2",
   "metadata": {},
   "outputs": [],
   "source": [
    "a=np.array([1,2,3,4,5,6])"
   ]
  },
  {
   "cell_type": "code",
   "execution_count": 117,
   "id": "dcf47be7",
   "metadata": {},
   "outputs": [
    {
     "data": {
      "text/plain": [
       "1"
      ]
     },
     "execution_count": 117,
     "metadata": {},
     "output_type": "execute_result"
    }
   ],
   "source": [
    "a[0]    #accessing"
   ]
  },
  {
   "cell_type": "code",
   "execution_count": 118,
   "id": "81ff8454",
   "metadata": {},
   "outputs": [
    {
     "data": {
      "text/plain": [
       "[1, 2, 3, 4, 5, 6]"
      ]
     },
     "execution_count": 118,
     "metadata": {},
     "output_type": "execute_result"
    }
   ],
   "source": [
    "a[0:]     #slicing"
   ]
  },
  {
   "cell_type": "code",
   "execution_count": 120,
   "id": "0af205aa",
   "metadata": {},
   "outputs": [
    {
     "data": {
      "text/plain": [
       "[2, 3]"
      ]
     },
     "execution_count": 120,
     "metadata": {},
     "output_type": "execute_result"
    }
   ],
   "source": [
    "a[1:3]   #excluding the index element of 3"
   ]
  },
  {
   "cell_type": "code",
   "execution_count": 122,
   "id": "b282d151",
   "metadata": {},
   "outputs": [],
   "source": [
    "b=np.array([[1,2,3],[4,5,6]])"
   ]
  },
  {
   "cell_type": "code",
   "execution_count": 123,
   "id": "3c82cf32",
   "metadata": {},
   "outputs": [
    {
     "data": {
      "text/plain": [
       "dtype('int32')"
      ]
     },
     "execution_count": 123,
     "metadata": {},
     "output_type": "execute_result"
    }
   ],
   "source": [
    "b.dtype"
   ]
  },
  {
   "cell_type": "code",
   "execution_count": 124,
   "id": "c7c19c83",
   "metadata": {},
   "outputs": [
    {
     "data": {
      "text/plain": [
       "6"
      ]
     },
     "execution_count": 124,
     "metadata": {},
     "output_type": "execute_result"
    }
   ],
   "source": [
    "b.size"
   ]
  },
  {
   "cell_type": "code",
   "execution_count": 125,
   "id": "d56cabb0",
   "metadata": {},
   "outputs": [
    {
     "data": {
      "text/plain": [
       "(2, 3)"
      ]
     },
     "execution_count": 125,
     "metadata": {},
     "output_type": "execute_result"
    }
   ],
   "source": [
    "b.shape"
   ]
  },
  {
   "cell_type": "code",
   "execution_count": 126,
   "id": "be11152a",
   "metadata": {},
   "outputs": [
    {
     "data": {
      "text/plain": [
       "array([1, 2, 3])"
      ]
     },
     "execution_count": 126,
     "metadata": {},
     "output_type": "execute_result"
    }
   ],
   "source": [
    "b[0]"
   ]
  },
  {
   "cell_type": "code",
   "execution_count": 127,
   "id": "7390a2c7",
   "metadata": {},
   "outputs": [
    {
     "data": {
      "text/plain": [
       "2"
      ]
     },
     "execution_count": 127,
     "metadata": {},
     "output_type": "execute_result"
    }
   ],
   "source": [
    "b[0][1]     #accessing"
   ]
  },
  {
   "cell_type": "markdown",
   "id": "bbbd6fb3",
   "metadata": {},
   "source": [
    "### copy()"
   ]
  },
  {
   "cell_type": "code",
   "execution_count": 137,
   "id": "a79a5c74",
   "metadata": {},
   "outputs": [],
   "source": [
    "a=np.array([[1,2,3],[4,5,6]])"
   ]
  },
  {
   "cell_type": "code",
   "execution_count": 149,
   "id": "3f264ed4",
   "metadata": {},
   "outputs": [],
   "source": [
    "b=np.copy(a)    #copying the \"a\" values into \"b\""
   ]
  },
  {
   "cell_type": "code",
   "execution_count": 155,
   "id": "7b83993e",
   "metadata": {},
   "outputs": [],
   "source": [
    "b=a.copy()"
   ]
  },
  {
   "cell_type": "code",
   "execution_count": 139,
   "id": "ef38fc83",
   "metadata": {},
   "outputs": [
    {
     "name": "stdout",
     "output_type": "stream",
     "text": [
      "[[1 2 3]\n",
      " [4 5 6]]\n"
     ]
    }
   ],
   "source": [
    "print(b)"
   ]
  },
  {
   "cell_type": "code",
   "execution_count": 141,
   "id": "f0cae08a",
   "metadata": {},
   "outputs": [
    {
     "name": "stdout",
     "output_type": "stream",
     "text": [
      "[[1 2 3]\n",
      " [4 5 6]]\n"
     ]
    }
   ],
   "source": [
    "print(a)"
   ]
  },
  {
   "cell_type": "code",
   "execution_count": 142,
   "id": "c08cedd4",
   "metadata": {},
   "outputs": [
    {
     "name": "stdout",
     "output_type": "stream",
     "text": [
      "[[1 2 3]\n",
      " [4 5 6]]\n"
     ]
    }
   ],
   "source": [
    "print(b)"
   ]
  },
  {
   "cell_type": "markdown",
   "id": "d56e3e42",
   "metadata": {},
   "source": [
    "### view()"
   ]
  },
  {
   "cell_type": "code",
   "execution_count": 177,
   "id": "4909cad2",
   "metadata": {},
   "outputs": [],
   "source": [
    "a=np.array([[1,2,3],[4,5,6]])"
   ]
  },
  {
   "cell_type": "code",
   "execution_count": 178,
   "id": "67ce9ba9",
   "metadata": {},
   "outputs": [],
   "source": [
    "b=a.view()"
   ]
  },
  {
   "cell_type": "code",
   "execution_count": 179,
   "id": "4d1b25e8",
   "metadata": {},
   "outputs": [
    {
     "data": {
      "text/plain": [
       "array([[1, 2, 3],\n",
       "       [4, 5, 6]])"
      ]
     },
     "execution_count": 179,
     "metadata": {},
     "output_type": "execute_result"
    }
   ],
   "source": [
    "b"
   ]
  },
  {
   "cell_type": "code",
   "execution_count": 180,
   "id": "790f76b3",
   "metadata": {},
   "outputs": [
    {
     "name": "stdout",
     "output_type": "stream",
     "text": [
      "a= [[1 2 3]\n",
      " [4 5 6]]\n"
     ]
    }
   ],
   "source": [
    "print(\"a=\",a)"
   ]
  },
  {
   "cell_type": "code",
   "execution_count": 181,
   "id": "06799d6a",
   "metadata": {},
   "outputs": [
    {
     "name": "stdout",
     "output_type": "stream",
     "text": [
      "b= [[1 2 3]\n",
      " [4 5 6]]\n"
     ]
    }
   ],
   "source": [
    "print(\"b=\",b)"
   ]
  },
  {
   "cell_type": "code",
   "execution_count": 182,
   "id": "8989c43f",
   "metadata": {},
   "outputs": [],
   "source": [
    "a[0][1]=25"
   ]
  },
  {
   "cell_type": "code",
   "execution_count": 183,
   "id": "d833552e",
   "metadata": {},
   "outputs": [
    {
     "name": "stdout",
     "output_type": "stream",
     "text": [
      "[[ 1 25  3]\n",
      " [ 4  5  6]]\n"
     ]
    }
   ],
   "source": [
    "print(a)"
   ]
  },
  {
   "cell_type": "code",
   "execution_count": 185,
   "id": "5adeb086",
   "metadata": {},
   "outputs": [
    {
     "name": "stdout",
     "output_type": "stream",
     "text": [
      "[[ 1 25  3]\n",
      " [ 4  5  6]]\n"
     ]
    }
   ],
   "source": [
    "print(b)"
   ]
  },
  {
   "cell_type": "code",
   "execution_count": 13,
   "id": "c1fb111f",
   "metadata": {},
   "outputs": [],
   "source": [
    "#note : here \"a\" is the refrences to \"b\" so what ever the changes we do to the \"a\" it will be also applicable to \"b\""
   ]
  },
  {
   "cell_type": "markdown",
   "id": "239ef3a4",
   "metadata": {},
   "source": [
    "### sort()"
   ]
  },
  {
   "cell_type": "code",
   "execution_count": 14,
   "id": "3542d7f1",
   "metadata": {},
   "outputs": [],
   "source": [
    "a=np.array([6,5,4,3,2,1])"
   ]
  },
  {
   "cell_type": "code",
   "execution_count": 15,
   "id": "62fbe570",
   "metadata": {},
   "outputs": [
    {
     "name": "stdout",
     "output_type": "stream",
     "text": [
      "[1 2 3 4 5 6]\n"
     ]
    }
   ],
   "source": [
    "print(np.sort(a))"
   ]
  },
  {
   "cell_type": "code",
   "execution_count": 16,
   "id": "13a4362a",
   "metadata": {},
   "outputs": [],
   "source": [
    "b=np.array([[4,3,21],[5,6,7]])"
   ]
  },
  {
   "cell_type": "code",
   "execution_count": 18,
   "id": "c3b83596",
   "metadata": {},
   "outputs": [
    {
     "name": "stdout",
     "output_type": "stream",
     "text": [
      "[[ 3  4 21]\n",
      " [ 5  6  7]]\n"
     ]
    }
   ],
   "source": [
    "print(np.sort(b,axis=1))   #axis=1 means row wise operations"
   ]
  },
  {
   "cell_type": "code",
   "execution_count": 19,
   "id": "f205861d",
   "metadata": {},
   "outputs": [
    {
     "name": "stdout",
     "output_type": "stream",
     "text": [
      "[[ 4  3  7]\n",
      " [ 5  6 21]]\n"
     ]
    }
   ],
   "source": [
    "print(np.sort(b,axis=0))   #axis=0 means column wise operations"
   ]
  },
  {
   "cell_type": "markdown",
   "id": "4a7a4ed3",
   "metadata": {},
   "source": [
    "### another method for sorting"
   ]
  },
  {
   "cell_type": "code",
   "execution_count": 23,
   "id": "cf4dab7d",
   "metadata": {},
   "outputs": [],
   "source": [
    "d=np.dtype([(\"name\",\"S1\"),(\"percentage\",\"float\")])     #assingning the dtype to map the values later"
   ]
  },
  {
   "cell_type": "code",
   "execution_count": 34,
   "id": "5723f4f0",
   "metadata": {},
   "outputs": [],
   "source": [
    "a=np.array([(\"ganesh\",92.8),(\"raju\",80.8),(\"agambaa\",60.8),(\"jai\",50.8)],dtype=d)"
   ]
  },
  {
   "cell_type": "code",
   "execution_count": 39,
   "id": "ddf62634",
   "metadata": {},
   "outputs": [],
   "source": [
    "a=np.sort(a,axis=0,order=\"percentage\")     #sorted according to the percentage"
   ]
  },
  {
   "cell_type": "code",
   "execution_count": 40,
   "id": "f70652d4",
   "metadata": {},
   "outputs": [
    {
     "data": {
      "text/plain": [
       "array([(b'j', 50.8), (b'a', 60.8), (b'r', 80.8), (b'g', 92.8)],\n",
       "      dtype=[('name', 'S1'), ('percentage', '<f8')])"
      ]
     },
     "execution_count": 40,
     "metadata": {},
     "output_type": "execute_result"
    }
   ],
   "source": [
    "a"
   ]
  },
  {
   "cell_type": "code",
   "execution_count": 38,
   "id": "3d41495c",
   "metadata": {},
   "outputs": [
    {
     "data": {
      "text/plain": [
       "array([[(b'j', 50.8), (b'a', 60.8)],\n",
       "       [(b'r', 80.8), (b'g', 92.8)]],\n",
       "      dtype=[('name', 'S1'), ('percentage', '<f8')])"
      ]
     },
     "execution_count": 38,
     "metadata": {},
     "output_type": "execute_result"
    }
   ],
   "source": [
    "a.reshape(2,2)"
   ]
  },
  {
   "cell_type": "markdown",
   "id": "2e057bb4",
   "metadata": {},
   "source": [
    "### append()"
   ]
  },
  {
   "cell_type": "code",
   "execution_count": 44,
   "id": "084e0793",
   "metadata": {},
   "outputs": [],
   "source": [
    "a=np.array([10,20,30,40,50])"
   ]
  },
  {
   "cell_type": "code",
   "execution_count": 45,
   "id": "54e1ec8d",
   "metadata": {},
   "outputs": [],
   "source": [
    "b=np.array([60,70,80,90])"
   ]
  },
  {
   "cell_type": "code",
   "execution_count": 46,
   "id": "da5c0c7b",
   "metadata": {},
   "outputs": [
    {
     "name": "stdout",
     "output_type": "stream",
     "text": [
      "[10 20 30 40 50 60 70 80 90]\n"
     ]
    }
   ],
   "source": [
    "print(np.append(a,b))"
   ]
  },
  {
   "cell_type": "code",
   "execution_count": null,
   "id": "1433bf8a",
   "metadata": {},
   "outputs": [],
   "source": []
  },
  {
   "cell_type": "code",
   "execution_count": 47,
   "id": "71a151b8",
   "metadata": {},
   "outputs": [],
   "source": [
    "#Note:Even if we give a multi-dimensional array it will return a 1-dimensional array when we apply append method"
   ]
  },
  {
   "cell_type": "code",
   "execution_count": 48,
   "id": "8f1a0daa",
   "metadata": {},
   "outputs": [],
   "source": [
    "a=np.array([[1,2,3],[4,5,6]])"
   ]
  },
  {
   "cell_type": "code",
   "execution_count": 49,
   "id": "f0f1162b",
   "metadata": {},
   "outputs": [],
   "source": [
    "b=np.array([[7,8,9],[10,20,30]])"
   ]
  },
  {
   "cell_type": "code",
   "execution_count": 59,
   "id": "f81be50c",
   "metadata": {},
   "outputs": [],
   "source": [
    "c=np.append(a,b)"
   ]
  },
  {
   "cell_type": "code",
   "execution_count": 62,
   "id": "e9d930ac",
   "metadata": {},
   "outputs": [
    {
     "name": "stdout",
     "output_type": "stream",
     "text": [
      "[ 1  2  3  4  5  6  7  8  9 10 20 30]\n"
     ]
    }
   ],
   "source": [
    "print(c)"
   ]
  },
  {
   "cell_type": "markdown",
   "id": "8f3f5cde",
   "metadata": {},
   "source": [
    "### we can change the dimensions using .reshape()"
   ]
  },
  {
   "cell_type": "code",
   "execution_count": 64,
   "id": "dd64b7ae",
   "metadata": {},
   "outputs": [
    {
     "name": "stdout",
     "output_type": "stream",
     "text": [
      "[[ 1  2]\n",
      " [ 3  4]\n",
      " [ 5  6]\n",
      " [ 7  8]\n",
      " [ 9 10]\n",
      " [20 30]]\n"
     ]
    }
   ],
   "source": [
    "print(c.reshape(6,2))"
   ]
  },
  {
   "cell_type": "markdown",
   "id": "ccf61299",
   "metadata": {},
   "source": [
    "### insert()"
   ]
  },
  {
   "cell_type": "code",
   "execution_count": 66,
   "id": "9bfc13de",
   "metadata": {},
   "outputs": [],
   "source": [
    "a=np.array([0,1,2,3,4,5,6,7,8,9])"
   ]
  },
  {
   "cell_type": "code",
   "execution_count": 71,
   "id": "d18b11a7",
   "metadata": {},
   "outputs": [],
   "source": [
    "a=np.insert(a,3,300)  #3= index ; 300= element to be inserted"
   ]
  },
  {
   "cell_type": "code",
   "execution_count": 75,
   "id": "96467dff",
   "metadata": {},
   "outputs": [
    {
     "name": "stdout",
     "output_type": "stream",
     "text": [
      "[  0   1   2 300   3   4   5   6   7   8   9]\n"
     ]
    }
   ],
   "source": [
    "print(a)"
   ]
  },
  {
   "cell_type": "code",
   "execution_count": 74,
   "id": "d3f40ee3",
   "metadata": {},
   "outputs": [
    {
     "data": {
      "text/plain": [
       "array([  0,   1,   2, 300,  35,  36,  37,  38,   3,   4,   5,   6,   7,\n",
       "         8,   9])"
      ]
     },
     "execution_count": 74,
     "metadata": {},
     "output_type": "execute_result"
    }
   ],
   "source": [
    "np.insert(a,4,[35,36,37,38])    #to insert  multiple elements in an array"
   ]
  },
  {
   "cell_type": "markdown",
   "id": "450c748a",
   "metadata": {},
   "source": [
    "### delete()"
   ]
  },
  {
   "cell_type": "code",
   "execution_count": 76,
   "id": "214b4ba0",
   "metadata": {},
   "outputs": [],
   "source": [
    "a=np.array([0,1,2,3,4,5,6])"
   ]
  },
  {
   "cell_type": "code",
   "execution_count": 77,
   "id": "706bd9d9",
   "metadata": {},
   "outputs": [],
   "source": [
    "a=np.delete(a,0)   #deleting the 0 index element"
   ]
  },
  {
   "cell_type": "code",
   "execution_count": 79,
   "id": "27340309",
   "metadata": {},
   "outputs": [
    {
     "data": {
      "text/plain": [
       "array([[1, 2, 3],\n",
       "       [4, 5, 6]])"
      ]
     },
     "execution_count": 79,
     "metadata": {},
     "output_type": "execute_result"
    }
   ],
   "source": [
    "a.reshape(2,3)   #reshape"
   ]
  },
  {
   "cell_type": "markdown",
   "id": "64aee4be",
   "metadata": {},
   "source": [
    "### concatenate()"
   ]
  },
  {
   "cell_type": "code",
   "execution_count": 80,
   "id": "29e271dc",
   "metadata": {},
   "outputs": [],
   "source": [
    "a=np.array([[1,2,3],[4,5,6]])"
   ]
  },
  {
   "cell_type": "code",
   "execution_count": 81,
   "id": "bd895a12",
   "metadata": {},
   "outputs": [],
   "source": [
    "b=np.array([[89,87,86],[23,4,5]])"
   ]
  },
  {
   "cell_type": "code",
   "execution_count": 86,
   "id": "c83b0417",
   "metadata": {},
   "outputs": [
    {
     "data": {
      "text/plain": [
       "array([[ 1,  2,  3],\n",
       "       [ 4,  5,  6],\n",
       "       [89, 87, 86],\n",
       "       [23,  4,  5]])"
      ]
     },
     "execution_count": 86,
     "metadata": {},
     "output_type": "execute_result"
    }
   ],
   "source": [
    "np.concatenate((a,b))    #array in paranthesis()"
   ]
  },
  {
   "cell_type": "markdown",
   "id": "5df0df5e",
   "metadata": {},
   "source": [
    "### stack()"
   ]
  },
  {
   "cell_type": "code",
   "execution_count": 11,
   "id": "d3ab2c3b",
   "metadata": {},
   "outputs": [],
   "source": [
    "a=np.array([[1,2,3],[4,5,6]])"
   ]
  },
  {
   "cell_type": "code",
   "execution_count": 12,
   "id": "9983fa84",
   "metadata": {},
   "outputs": [],
   "source": [
    "b=np.array([[7,8,9],[10,11,12]])"
   ]
  },
  {
   "cell_type": "code",
   "execution_count": 13,
   "id": "883c319e",
   "metadata": {},
   "outputs": [],
   "source": [
    "c=np.stack((a,b))"
   ]
  },
  {
   "cell_type": "code",
   "execution_count": 14,
   "id": "95a8f65e",
   "metadata": {},
   "outputs": [
    {
     "data": {
      "text/plain": [
       "array([[[ 1,  2,  3],\n",
       "        [ 4,  5,  6]],\n",
       "\n",
       "       [[ 7,  8,  9],\n",
       "        [10, 11, 12]]])"
      ]
     },
     "execution_count": 14,
     "metadata": {},
     "output_type": "execute_result"
    }
   ],
   "source": [
    "c"
   ]
  },
  {
   "cell_type": "code",
   "execution_count": 15,
   "id": "cb4267ea",
   "metadata": {},
   "outputs": [
    {
     "data": {
      "text/plain": [
       "array([[1, 2, 3],\n",
       "       [4, 5, 6]])"
      ]
     },
     "execution_count": 15,
     "metadata": {},
     "output_type": "execute_result"
    }
   ],
   "source": [
    "c[0]    #\"a\"formed as an individual array "
   ]
  },
  {
   "cell_type": "code",
   "execution_count": 24,
   "id": "cd4f8fb1",
   "metadata": {},
   "outputs": [
    {
     "data": {
      "text/plain": [
       "array([ 4,  5,  6, 10, 11, 12])"
      ]
     },
     "execution_count": 24,
     "metadata": {},
     "output_type": "execute_result"
    }
   ],
   "source": [
    "c[1]    #\"b\" formed as an indivodual array"
   ]
  },
  {
   "cell_type": "code",
   "execution_count": 26,
   "id": "65d3eeb1",
   "metadata": {},
   "outputs": [
    {
     "data": {
      "text/plain": [
       "array([[ 1,  4],\n",
       "       [ 2,  5],\n",
       "       [ 3,  6],\n",
       "       [ 7, 10],\n",
       "       [ 8, 11],\n",
       "       [ 9, 12]])"
      ]
     },
     "execution_count": 26,
     "metadata": {},
     "output_type": "execute_result"
    }
   ],
   "source": [
    "np.stack(c,axis=1)     #row wise operations"
   ]
  },
  {
   "cell_type": "code",
   "execution_count": 28,
   "id": "ece206ce",
   "metadata": {},
   "outputs": [
    {
     "data": {
      "text/plain": [
       "array([[ 1,  2,  3,  7,  8,  9],\n",
       "       [ 4,  5,  6, 10, 11, 12]])"
      ]
     },
     "execution_count": 28,
     "metadata": {},
     "output_type": "execute_result"
    }
   ],
   "source": [
    "np.stack(c,axis=0)   #column wise operations"
   ]
  },
  {
   "cell_type": "markdown",
   "id": "ff71765b",
   "metadata": {},
   "source": [
    "### vstack() Vertical stack"
   ]
  },
  {
   "cell_type": "code",
   "execution_count": 8,
   "id": "82cde4ad",
   "metadata": {},
   "outputs": [],
   "source": [
    "a=np.array([[1,2,3],[4,5,6]])"
   ]
  },
  {
   "cell_type": "code",
   "execution_count": 9,
   "id": "84620529",
   "metadata": {},
   "outputs": [],
   "source": [
    "b=np.array([[7,8,9],[10,11,12]])"
   ]
  },
  {
   "cell_type": "code",
   "execution_count": 10,
   "id": "16bf2bc6",
   "metadata": {},
   "outputs": [
    {
     "data": {
      "text/plain": [
       "array([[ 1,  2,  3],\n",
       "       [ 4,  5,  6],\n",
       "       [ 7,  8,  9],\n",
       "       [10, 11, 12]])"
      ]
     },
     "execution_count": 10,
     "metadata": {},
     "output_type": "execute_result"
    }
   ],
   "source": [
    "np.vstack((a,b))    #concatenate with axis=0"
   ]
  },
  {
   "cell_type": "markdown",
   "id": "334368ad",
   "metadata": {},
   "source": [
    "### hstack() Horizontal stack"
   ]
  },
  {
   "cell_type": "code",
   "execution_count": 1,
   "id": "2d222806",
   "metadata": {},
   "outputs": [],
   "source": [
    "import numpy as np"
   ]
  },
  {
   "cell_type": "code",
   "execution_count": 5,
   "id": "f0e1a034",
   "metadata": {},
   "outputs": [],
   "source": [
    "a=np.array([[1,2,3],[4,5,6]])"
   ]
  },
  {
   "cell_type": "code",
   "execution_count": 6,
   "id": "bd7d0b17",
   "metadata": {},
   "outputs": [],
   "source": [
    "b=np.array([[7,8,9],[10,11,12]])"
   ]
  },
  {
   "cell_type": "code",
   "execution_count": 23,
   "id": "d7b809cb",
   "metadata": {},
   "outputs": [],
   "source": [
    "c=np.hstack((a,b))      #concatenate with axis=1"
   ]
  },
  {
   "cell_type": "code",
   "execution_count": 20,
   "id": "43cf5d68",
   "metadata": {},
   "outputs": [
    {
     "data": {
      "text/plain": [
       "array([[1, 2, 3],\n",
       "       [4, 5, 6]])"
      ]
     },
     "execution_count": 20,
     "metadata": {},
     "output_type": "execute_result"
    }
   ],
   "source": [
    "c[0]"
   ]
  },
  {
   "cell_type": "code",
   "execution_count": 19,
   "id": "ba86795e",
   "metadata": {},
   "outputs": [
    {
     "data": {
      "text/plain": [
       "array([[ 7,  8,  9],\n",
       "       [10, 11, 12]])"
      ]
     },
     "execution_count": 19,
     "metadata": {},
     "output_type": "execute_result"
    }
   ],
   "source": [
    "c[1]"
   ]
  },
  {
   "cell_type": "markdown",
   "id": "98c8c663",
   "metadata": {},
   "source": [
    "### dstack()"
   ]
  },
  {
   "cell_type": "code",
   "execution_count": 30,
   "id": "ed76d19f",
   "metadata": {},
   "outputs": [],
   "source": [
    "a=np.array([[1,2,3],[4,5,6]])"
   ]
  },
  {
   "cell_type": "code",
   "execution_count": 31,
   "id": "de38a7b2",
   "metadata": {},
   "outputs": [],
   "source": [
    "b=np.array([[7,8,9],[10,11,12]])"
   ]
  },
  {
   "cell_type": "code",
   "execution_count": 36,
   "id": "4470f468",
   "metadata": {},
   "outputs": [],
   "source": [
    "c=np.dstack((a,b))"
   ]
  },
  {
   "cell_type": "code",
   "execution_count": 37,
   "id": "a38c2dcb",
   "metadata": {},
   "outputs": [
    {
     "name": "stdout",
     "output_type": "stream",
     "text": [
      "[[[ 1  7]\n",
      "  [ 2  8]\n",
      "  [ 3  9]]\n",
      "\n",
      " [[ 4 10]\n",
      "  [ 5 11]\n",
      "  [ 6 12]]]\n"
     ]
    }
   ],
   "source": [
    "print(c)"
   ]
  },
  {
   "cell_type": "code",
   "execution_count": 38,
   "id": "b7dfd32b",
   "metadata": {},
   "outputs": [
    {
     "data": {
      "text/plain": [
       "array([[[ 1,  7],\n",
       "        [ 2,  8],\n",
       "        [ 3,  9]],\n",
       "\n",
       "       [[ 4, 10],\n",
       "        [ 5, 11],\n",
       "        [ 6, 12]]])"
      ]
     },
     "execution_count": 38,
     "metadata": {},
     "output_type": "execute_result"
    }
   ],
   "source": [
    "c"
   ]
  },
  {
   "cell_type": "markdown",
   "id": "cc44874a",
   "metadata": {},
   "source": [
    "### split()"
   ]
  },
  {
   "cell_type": "code",
   "execution_count": 40,
   "id": "8826e2c1",
   "metadata": {},
   "outputs": [],
   "source": [
    "a=np.array([1,2,3,4,5,6,7,8,9,0])"
   ]
  },
  {
   "cell_type": "code",
   "execution_count": 48,
   "id": "d30c6ca6",
   "metadata": {},
   "outputs": [],
   "source": [
    "b=np.split(a,2)      #spliting the array in 2 equal parts"
   ]
  },
  {
   "cell_type": "code",
   "execution_count": 49,
   "id": "1a28c2d0",
   "metadata": {},
   "outputs": [
    {
     "data": {
      "text/plain": [
       "[array([1, 2, 3, 4, 5]), array([6, 7, 8, 9, 0])]"
      ]
     },
     "execution_count": 49,
     "metadata": {},
     "output_type": "execute_result"
    }
   ],
   "source": [
    "b"
   ]
  },
  {
   "cell_type": "code",
   "execution_count": 46,
   "id": "10909ad1",
   "metadata": {},
   "outputs": [],
   "source": [
    "c=np.split(a,5)      #splitting the array in 5 equal parts"
   ]
  },
  {
   "cell_type": "code",
   "execution_count": 47,
   "id": "87c6e897",
   "metadata": {},
   "outputs": [
    {
     "data": {
      "text/plain": [
       "[array([1, 2]), array([3, 4]), array([5, 6]), array([7, 8]), array([9, 0])]"
      ]
     },
     "execution_count": 47,
     "metadata": {},
     "output_type": "execute_result"
    }
   ],
   "source": [
    "c"
   ]
  },
  {
   "cell_type": "code",
   "execution_count": null,
   "id": "7e7be25a",
   "metadata": {},
   "outputs": [],
   "source": []
  },
  {
   "cell_type": "code",
   "execution_count": 50,
   "id": "817aae6f",
   "metadata": {},
   "outputs": [],
   "source": [
    "a1,b1,c1,d1,e1=np.split(a,5)"
   ]
  },
  {
   "cell_type": "code",
   "execution_count": 51,
   "id": "9e8073f5",
   "metadata": {},
   "outputs": [
    {
     "data": {
      "text/plain": [
       "array([1, 2])"
      ]
     },
     "execution_count": 51,
     "metadata": {},
     "output_type": "execute_result"
    }
   ],
   "source": [
    "a1"
   ]
  },
  {
   "cell_type": "code",
   "execution_count": 52,
   "id": "07e248db",
   "metadata": {},
   "outputs": [
    {
     "data": {
      "text/plain": [
       "array([3, 4])"
      ]
     },
     "execution_count": 52,
     "metadata": {},
     "output_type": "execute_result"
    }
   ],
   "source": [
    "b1"
   ]
  },
  {
   "cell_type": "code",
   "execution_count": 53,
   "id": "ffca688e",
   "metadata": {},
   "outputs": [
    {
     "data": {
      "text/plain": [
       "array([5, 6])"
      ]
     },
     "execution_count": 53,
     "metadata": {},
     "output_type": "execute_result"
    }
   ],
   "source": [
    "c1"
   ]
  },
  {
   "cell_type": "code",
   "execution_count": 54,
   "id": "bc098801",
   "metadata": {},
   "outputs": [
    {
     "data": {
      "text/plain": [
       "array([7, 8])"
      ]
     },
     "execution_count": 54,
     "metadata": {},
     "output_type": "execute_result"
    }
   ],
   "source": [
    "d1"
   ]
  },
  {
   "cell_type": "code",
   "execution_count": 55,
   "id": "609bc14d",
   "metadata": {},
   "outputs": [
    {
     "data": {
      "text/plain": [
       "array([9, 0])"
      ]
     },
     "execution_count": 55,
     "metadata": {},
     "output_type": "execute_result"
    }
   ],
   "source": [
    "e1"
   ]
  },
  {
   "cell_type": "markdown",
   "id": "2b82e2b4",
   "metadata": {},
   "source": [
    "### where()"
   ]
  },
  {
   "cell_type": "code",
   "execution_count": 56,
   "id": "8972c510",
   "metadata": {},
   "outputs": [],
   "source": [
    "a=np.array([1,2,3,4,5,6,7,8,9,0])"
   ]
  },
  {
   "cell_type": "code",
   "execution_count": 57,
   "id": "cdd8b2e9",
   "metadata": {},
   "outputs": [
    {
     "name": "stdout",
     "output_type": "stream",
     "text": [
      "(array([9], dtype=int64),)\n"
     ]
    }
   ],
   "source": [
    "print(np.where(a==0))      #0 is the element placed at index=9"
   ]
  },
  {
   "cell_type": "code",
   "execution_count": 58,
   "id": "2eae6176",
   "metadata": {},
   "outputs": [],
   "source": [
    " b=np.array([[1,2,3],[4,5,6]])"
   ]
  },
  {
   "cell_type": "code",
   "execution_count": 59,
   "id": "3675bfcb",
   "metadata": {},
   "outputs": [
    {
     "name": "stdout",
     "output_type": "stream",
     "text": [
      "(array([1], dtype=int64), array([2], dtype=int64))\n"
     ]
    }
   ],
   "source": [
    "print(np.where(b==6))"
   ]
  },
  {
   "cell_type": "markdown",
   "id": "46300629",
   "metadata": {},
   "source": [
    "### searchsorted()"
   ]
  },
  {
   "cell_type": "code",
   "execution_count": 67,
   "id": "ca36352e",
   "metadata": {},
   "outputs": [],
   "source": [
    "a=np.array([1,2,3])"
   ]
  },
  {
   "cell_type": "code",
   "execution_count": 70,
   "id": "baf633bc",
   "metadata": {},
   "outputs": [
    {
     "data": {
      "text/plain": [
       "0"
      ]
     },
     "execution_count": 70,
     "metadata": {},
     "output_type": "execute_result"
    }
   ],
   "source": [
    "a.searchsorted(1)"
   ]
  },
  {
   "cell_type": "markdown",
   "id": "78ef6608",
   "metadata": {},
   "source": [
    "### or"
   ]
  },
  {
   "cell_type": "code",
   "execution_count": 69,
   "id": "d7b0fd20",
   "metadata": {},
   "outputs": [
    {
     "data": {
      "text/plain": [
       "0"
      ]
     },
     "execution_count": 69,
     "metadata": {},
     "output_type": "execute_result"
    }
   ],
   "source": [
    "np.searchsorted(a,1)"
   ]
  },
  {
   "cell_type": "code",
   "execution_count": 72,
   "id": "3cb595e8",
   "metadata": {},
   "outputs": [
    {
     "data": {
      "text/plain": [
       "array([1, 2], dtype=int64)"
      ]
     },
     "execution_count": 72,
     "metadata": {},
     "output_type": "execute_result"
    }
   ],
   "source": [
    "np.searchsorted(a,[2,3])"
   ]
  },
  {
   "cell_type": "markdown",
   "id": "30f88f91",
   "metadata": {},
   "source": [
    "# Arthematic Operations"
   ]
  },
  {
   "cell_type": "markdown",
   "id": "c30b7425",
   "metadata": {},
   "source": [
    "### add()"
   ]
  },
  {
   "cell_type": "code",
   "execution_count": 76,
   "id": "7651f52a",
   "metadata": {},
   "outputs": [],
   "source": [
    "a=np.array([1,2,3])      #adding of two 1-dimensional arrays"
   ]
  },
  {
   "cell_type": "code",
   "execution_count": 74,
   "id": "6b6d590f",
   "metadata": {},
   "outputs": [],
   "source": [
    "b=np.array([4,5,6])"
   ]
  },
  {
   "cell_type": "code",
   "execution_count": 75,
   "id": "5abab4d2",
   "metadata": {},
   "outputs": [
    {
     "data": {
      "text/plain": [
       "array([5, 7, 9])"
      ]
     },
     "execution_count": 75,
     "metadata": {},
     "output_type": "execute_result"
    }
   ],
   "source": [
    "np.add(a,b)"
   ]
  },
  {
   "cell_type": "markdown",
   "id": "2dee8a49",
   "metadata": {},
   "source": [
    "### subtract()"
   ]
  },
  {
   "cell_type": "code",
   "execution_count": 84,
   "id": "3004db08",
   "metadata": {},
   "outputs": [],
   "source": [
    "a=np.array([1,2,3]) "
   ]
  },
  {
   "cell_type": "code",
   "execution_count": null,
   "id": "f1262e66",
   "metadata": {},
   "outputs": [],
   "source": [
    "b=np.array([4,5,6])"
   ]
  },
  {
   "cell_type": "code",
   "execution_count": 83,
   "id": "7eee3758",
   "metadata": {},
   "outputs": [
    {
     "data": {
      "text/plain": [
       "array([-3, -3, -3])"
      ]
     },
     "execution_count": 83,
     "metadata": {},
     "output_type": "execute_result"
    }
   ],
   "source": [
    "np.subtract(a,b)"
   ]
  },
  {
   "cell_type": "markdown",
   "id": "b8f7c49f",
   "metadata": {},
   "source": [
    "### multiply()"
   ]
  },
  {
   "cell_type": "code",
   "execution_count": 85,
   "id": "d1058763",
   "metadata": {},
   "outputs": [],
   "source": [
    "a=np.array([1,2,3])"
   ]
  },
  {
   "cell_type": "code",
   "execution_count": 86,
   "id": "592d55a7",
   "metadata": {},
   "outputs": [],
   "source": [
    "b=np.array([4,5,6])"
   ]
  },
  {
   "cell_type": "code",
   "execution_count": 87,
   "id": "2872c830",
   "metadata": {},
   "outputs": [
    {
     "data": {
      "text/plain": [
       "array([ 4, 10, 18])"
      ]
     },
     "execution_count": 87,
     "metadata": {},
     "output_type": "execute_result"
    }
   ],
   "source": [
    "np.multiply(a,b)"
   ]
  },
  {
   "cell_type": "markdown",
   "id": "19f5c3a1",
   "metadata": {},
   "source": [
    "### divide()"
   ]
  },
  {
   "cell_type": "code",
   "execution_count": 88,
   "id": "4196e22a",
   "metadata": {},
   "outputs": [],
   "source": [
    "a=np.array([1,2,3])"
   ]
  },
  {
   "cell_type": "code",
   "execution_count": 89,
   "id": "05c5b8ee",
   "metadata": {},
   "outputs": [],
   "source": [
    "b=np.array([4,5,6])"
   ]
  },
  {
   "cell_type": "code",
   "execution_count": 90,
   "id": "27fbd852",
   "metadata": {},
   "outputs": [
    {
     "data": {
      "text/plain": [
       "array([0.25, 0.4 , 0.5 ])"
      ]
     },
     "execution_count": 90,
     "metadata": {},
     "output_type": "execute_result"
    }
   ],
   "source": [
    "np.divide(a,b)"
   ]
  },
  {
   "cell_type": "markdown",
   "id": "e72fbe42",
   "metadata": {},
   "source": [
    "### exp()"
   ]
  },
  {
   "cell_type": "code",
   "execution_count": 91,
   "id": "321bd726",
   "metadata": {},
   "outputs": [],
   "source": [
    "a=np.array([1,2,3])"
   ]
  },
  {
   "cell_type": "code",
   "execution_count": 92,
   "id": "5f14178d",
   "metadata": {},
   "outputs": [],
   "source": [
    "b=np.array([4,5,6])"
   ]
  },
  {
   "cell_type": "code",
   "execution_count": 94,
   "id": "8e3811bb",
   "metadata": {},
   "outputs": [
    {
     "data": {
      "text/plain": [
       "array([ 2.71828183,  7.3890561 , 20.08553692])"
      ]
     },
     "execution_count": 94,
     "metadata": {},
     "output_type": "execute_result"
    }
   ],
   "source": [
    "np.exp(a)"
   ]
  },
  {
   "cell_type": "code",
   "execution_count": 95,
   "id": "2ae0fc28",
   "metadata": {},
   "outputs": [
    {
     "data": {
      "text/plain": [
       "array([ 54.59815003, 148.4131591 , 403.42879349])"
      ]
     },
     "execution_count": 95,
     "metadata": {},
     "output_type": "execute_result"
    }
   ],
   "source": [
    "np.exp(b)"
   ]
  },
  {
   "cell_type": "markdown",
   "id": "879089d3",
   "metadata": {},
   "source": [
    "### sqrt() squareroot"
   ]
  },
  {
   "cell_type": "code",
   "execution_count": 97,
   "id": "cd151419",
   "metadata": {},
   "outputs": [],
   "source": [
    "a=np.array([4,5,6,7,8,9])"
   ]
  },
  {
   "cell_type": "code",
   "execution_count": 98,
   "id": "5285bd4c",
   "metadata": {},
   "outputs": [],
   "source": [
    "b=np.array([1,2,3,4,5,6])"
   ]
  },
  {
   "cell_type": "code",
   "execution_count": 99,
   "id": "abc998df",
   "metadata": {},
   "outputs": [
    {
     "data": {
      "text/plain": [
       "array([2.        , 2.23606798, 2.44948974, 2.64575131, 2.82842712,\n",
       "       3.        ])"
      ]
     },
     "execution_count": 99,
     "metadata": {},
     "output_type": "execute_result"
    }
   ],
   "source": [
    "np.sqrt(a)"
   ]
  },
  {
   "cell_type": "code",
   "execution_count": 100,
   "id": "b736fc12",
   "metadata": {},
   "outputs": [
    {
     "data": {
      "text/plain": [
       "array([1.        , 1.41421356, 1.73205081, 2.        , 2.23606798,\n",
       "       2.44948974])"
      ]
     },
     "execution_count": 100,
     "metadata": {},
     "output_type": "execute_result"
    }
   ],
   "source": [
    "np.sqrt(b)"
   ]
  },
  {
   "cell_type": "markdown",
   "id": "5a293458",
   "metadata": {},
   "source": [
    "# comparision"
   ]
  },
  {
   "cell_type": "code",
   "execution_count": 101,
   "id": "07f7fc33",
   "metadata": {},
   "outputs": [],
   "source": [
    "a=np.array([[1,2,3],[4,5,6]])"
   ]
  },
  {
   "cell_type": "code",
   "execution_count": 102,
   "id": "b5117f98",
   "metadata": {},
   "outputs": [],
   "source": [
    "b=np.array([[10,20,30],[40,50,60]])"
   ]
  },
  {
   "cell_type": "markdown",
   "id": "6cb86366",
   "metadata": {},
   "source": [
    "### np.array_equal(array1,array2)"
   ]
  },
  {
   "cell_type": "code",
   "execution_count": 104,
   "id": "0df5dc2c",
   "metadata": {},
   "outputs": [
    {
     "data": {
      "text/plain": [
       "False"
      ]
     },
     "execution_count": 104,
     "metadata": {},
     "output_type": "execute_result"
    }
   ],
   "source": [
    "np.array_equal(a,b)"
   ]
  },
  {
   "cell_type": "code",
   "execution_count": 105,
   "id": "85aa102a",
   "metadata": {},
   "outputs": [],
   "source": [
    "c=np.array([1,2,3])"
   ]
  },
  {
   "cell_type": "code",
   "execution_count": 111,
   "id": "9b8b6ad1",
   "metadata": {},
   "outputs": [],
   "source": [
    "d=np.array([1,2,3])"
   ]
  },
  {
   "cell_type": "code",
   "execution_count": 112,
   "id": "27a76740",
   "metadata": {},
   "outputs": [
    {
     "data": {
      "text/plain": [
       "array([[False, False, False],\n",
       "       [False, False, False]])"
      ]
     },
     "execution_count": 112,
     "metadata": {},
     "output_type": "execute_result"
    }
   ],
   "source": [
    "a==b"
   ]
  },
  {
   "cell_type": "code",
   "execution_count": 110,
   "id": "f9aa4831",
   "metadata": {},
   "outputs": [
    {
     "data": {
      "text/plain": [
       "True"
      ]
     },
     "execution_count": 110,
     "metadata": {},
     "output_type": "execute_result"
    }
   ],
   "source": [
    "np.array_equal(c,d)"
   ]
  },
  {
   "cell_type": "code",
   "execution_count": 108,
   "id": "537f9f1e",
   "metadata": {},
   "outputs": [
    {
     "data": {
      "text/plain": [
       "array([ True,  True,  True])"
      ]
     },
     "execution_count": 108,
     "metadata": {},
     "output_type": "execute_result"
    }
   ],
   "source": [
    "c==d"
   ]
  },
  {
   "cell_type": "markdown",
   "id": "82d77aa1",
   "metadata": {},
   "source": [
    "# Array Functions"
   ]
  },
  {
   "cell_type": "code",
   "execution_count": 113,
   "id": "50cb0613",
   "metadata": {},
   "outputs": [],
   "source": [
    "a=np.array([1,2,3,4,5,6,7,8,9,0])"
   ]
  },
  {
   "cell_type": "markdown",
   "id": "5e9d1137",
   "metadata": {},
   "source": [
    "### sum()"
   ]
  },
  {
   "cell_type": "code",
   "execution_count": 115,
   "id": "be261c19",
   "metadata": {},
   "outputs": [
    {
     "data": {
      "text/plain": [
       "45"
      ]
     },
     "execution_count": 115,
     "metadata": {},
     "output_type": "execute_result"
    }
   ],
   "source": [
    "np.sum(a)"
   ]
  },
  {
   "cell_type": "markdown",
   "id": "4d3949de",
   "metadata": {},
   "source": [
    "### min()"
   ]
  },
  {
   "cell_type": "code",
   "execution_count": 116,
   "id": "e3173b88",
   "metadata": {},
   "outputs": [
    {
     "data": {
      "text/plain": [
       "0"
      ]
     },
     "execution_count": 116,
     "metadata": {},
     "output_type": "execute_result"
    }
   ],
   "source": [
    "np.min(a)"
   ]
  },
  {
   "cell_type": "markdown",
   "id": "735a6d56",
   "metadata": {},
   "source": [
    "### max()"
   ]
  },
  {
   "cell_type": "code",
   "execution_count": 117,
   "id": "01a9949d",
   "metadata": {},
   "outputs": [
    {
     "data": {
      "text/plain": [
       "9"
      ]
     },
     "execution_count": 117,
     "metadata": {},
     "output_type": "execute_result"
    }
   ],
   "source": [
    "np.max(a)"
   ]
  },
  {
   "cell_type": "markdown",
   "id": "1ab979c0",
   "metadata": {},
   "source": [
    "### mean()"
   ]
  },
  {
   "cell_type": "code",
   "execution_count": 118,
   "id": "700454af",
   "metadata": {},
   "outputs": [
    {
     "data": {
      "text/plain": [
       "4.5"
      ]
     },
     "execution_count": 118,
     "metadata": {},
     "output_type": "execute_result"
    }
   ],
   "source": [
    "np.mean(a)"
   ]
  },
  {
   "cell_type": "markdown",
   "id": "8b38910f",
   "metadata": {},
   "source": [
    "### median()"
   ]
  },
  {
   "cell_type": "code",
   "execution_count": 119,
   "id": "64cda405",
   "metadata": {},
   "outputs": [
    {
     "data": {
      "text/plain": [
       "4.5"
      ]
     },
     "execution_count": 119,
     "metadata": {},
     "output_type": "execute_result"
    }
   ],
   "source": [
    "np.median(a)"
   ]
  },
  {
   "cell_type": "markdown",
   "id": "6f3508b4",
   "metadata": {},
   "source": [
    "### var()"
   ]
  },
  {
   "cell_type": "code",
   "execution_count": 120,
   "id": "aaa21d0a",
   "metadata": {},
   "outputs": [
    {
     "data": {
      "text/plain": [
       "8.25"
      ]
     },
     "execution_count": 120,
     "metadata": {},
     "output_type": "execute_result"
    }
   ],
   "source": [
    "np.var(a)"
   ]
  },
  {
   "cell_type": "markdown",
   "id": "e602e83f",
   "metadata": {},
   "source": [
    "### std()"
   ]
  },
  {
   "cell_type": "code",
   "execution_count": 121,
   "id": "54a803af",
   "metadata": {},
   "outputs": [
    {
     "data": {
      "text/plain": [
       "2.8722813232690143"
      ]
     },
     "execution_count": 121,
     "metadata": {},
     "output_type": "execute_result"
    }
   ],
   "source": [
    "np.std(a)"
   ]
  },
  {
   "cell_type": "code",
   "execution_count": null,
   "id": "1289b27a",
   "metadata": {},
   "outputs": [],
   "source": []
  }
 ],
 "metadata": {
  "kernelspec": {
   "display_name": "Python 3 (ipykernel)",
   "language": "python",
   "name": "python3"
  },
  "language_info": {
   "codemirror_mode": {
    "name": "ipython",
    "version": 3
   },
   "file_extension": ".py",
   "mimetype": "text/x-python",
   "name": "python",
   "nbconvert_exporter": "python",
   "pygments_lexer": "ipython3",
   "version": "3.11.5"
  }
 },
 "nbformat": 4,
 "nbformat_minor": 5
}
